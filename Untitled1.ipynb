{
 "cells": [
  {
   "cell_type": "markdown",
   "id": "4cb6df94-c47a-4bd1-b05b-125397cca6e8",
   "metadata": {},
   "source": [
    "В данной работе с помощью датасета реестра предпринимателей из ФНС отберем юридические лица малого и среднего бизнеса в области Строительства, спарсим необходимые данные с сайта государственной бухгалтерской отчетности, после чего посчитаем EBIT по годам, посмотрим на чистую прибыль компаний с 2020 по 2024 год и нанесем 500 компаний по чистой прибыли за 2024 год на карту. Для работы возьмем первые 150000 строк, чтобы вычисления занимали разумное время."
   ]
  },
  {
   "cell_type": "code",
   "execution_count": 599,
   "id": "abe64b08-8701-45b5-ab85-abac1aa68a72",
   "metadata": {},
   "outputs": [],
   "source": [
    "from bs4 import BeautifulSoup\n",
    "import requests\n",
    "import pandas as pd\n",
    "import re\n",
    "import json\n",
    "import warnings\n",
    "import matplotlib.pyplot as plt\n",
    "import seaborn as sns\n",
    "import numpy as np\n",
    "import plotly.express as px\n",
    "warnings.filterwarnings(\"ignore\")"
   ]
  },
  {
   "cell_type": "code",
   "execution_count": 608,
   "id": "f0b7d7a8-2eaf-4d66-b482-8e93855800ff",
   "metadata": {},
   "outputs": [
    {
     "data": {
      "text/html": [
       "<div>\n",
       "<style scoped>\n",
       "    .dataframe tbody tr th:only-of-type {\n",
       "        vertical-align: middle;\n",
       "    }\n",
       "\n",
       "    .dataframe tbody tr th {\n",
       "        vertical-align: top;\n",
       "    }\n",
       "\n",
       "    .dataframe thead th {\n",
       "        text-align: right;\n",
       "    }\n",
       "</style>\n",
       "<table border=\"1\" class=\"dataframe\">\n",
       "  <thead>\n",
       "    <tr style=\"text-align: right;\">\n",
       "      <th></th>\n",
       "      <th>№ п/п</th>\n",
       "      <th>Наименование / ФИО</th>\n",
       "      <th>Тип субъекта</th>\n",
       "      <th>Категория</th>\n",
       "      <th>ОГРН</th>\n",
       "      <th>ИНН</th>\n",
       "      <th>Основной вид деятельности</th>\n",
       "      <th>Регион</th>\n",
       "      <th>Район</th>\n",
       "      <th>Город</th>\n",
       "      <th>...</th>\n",
       "      <th>Дата исключения из реестра</th>\n",
       "      <th>Телефон</th>\n",
       "      <th>E-mail</th>\n",
       "      <th>WWW</th>\n",
       "      <th>Наличие лицензий</th>\n",
       "      <th>Наличие заключенных договоров, контрактов</th>\n",
       "      <th>Производство инновационной, высокотехнологичной продукции</th>\n",
       "      <th>Участие в программах партнерства</th>\n",
       "      <th>Является социальным предприятием</th>\n",
       "      <th>Среднесписочная численность работников за предшествующий календарный год</th>\n",
       "    </tr>\n",
       "  </thead>\n",
       "  <tbody>\n",
       "    <tr>\n",
       "      <th>0</th>\n",
       "      <td>1</td>\n",
       "      <td>\" МЕГАПОЛИС \" ОБЩЕСТВО С ОГРАНИЧЕННОЙ ОТВЕТСТВ...</td>\n",
       "      <td>Юридическое лицо</td>\n",
       "      <td>Не является субъектом МСП</td>\n",
       "      <td>1027800523376</td>\n",
       "      <td>7801190028</td>\n",
       "      <td>41.2 Строительство жилых и нежилых зданий</td>\n",
       "      <td>78 - г.Санкт-Петербург</td>\n",
       "      <td>NaN</td>\n",
       "      <td>NaN</td>\n",
       "      <td>...</td>\n",
       "      <td>10.10.2021</td>\n",
       "      <td>NaN</td>\n",
       "      <td>NaN</td>\n",
       "      <td>NaN</td>\n",
       "      <td>Нет</td>\n",
       "      <td>Нет</td>\n",
       "      <td>Нет</td>\n",
       "      <td>Нет</td>\n",
       "      <td>Нет</td>\n",
       "      <td>NaN</td>\n",
       "    </tr>\n",
       "    <tr>\n",
       "      <th>1</th>\n",
       "      <td>2</td>\n",
       "      <td>\" СТАЛЬИНВЕСТСТРОЙ \" ОБЩЕСТВО С ОГРАНИЧЕННОЙ О...</td>\n",
       "      <td>Юридическое лицо</td>\n",
       "      <td>Не является субъектом МСП</td>\n",
       "      <td>1037800033545</td>\n",
       "      <td>7801227976</td>\n",
       "      <td>41.20 Строительство жилых и нежилых зданий</td>\n",
       "      <td>78 - г.Санкт-Петербург</td>\n",
       "      <td>NaN</td>\n",
       "      <td>NaN</td>\n",
       "      <td>...</td>\n",
       "      <td>10.08.2018</td>\n",
       "      <td>NaN</td>\n",
       "      <td>NaN</td>\n",
       "      <td>NaN</td>\n",
       "      <td>Нет</td>\n",
       "      <td>Нет</td>\n",
       "      <td>Нет</td>\n",
       "      <td>Нет</td>\n",
       "      <td>Нет</td>\n",
       "      <td>NaN</td>\n",
       "    </tr>\n",
       "    <tr>\n",
       "      <th>2</th>\n",
       "      <td>3</td>\n",
       "      <td>\" СТРОЙТЕХНИКА - М \" ОБЩЕСТВО С ОГРАНИЧЕННОЙ О...</td>\n",
       "      <td>Юридическое лицо</td>\n",
       "      <td>Не является субъектом МСП</td>\n",
       "      <td>1025204418293</td>\n",
       "      <td>5263039399</td>\n",
       "      <td>41.20 Строительство жилых и нежилых зданий</td>\n",
       "      <td>52 - Нижегородская область</td>\n",
       "      <td>NaN</td>\n",
       "      <td>г Нижний Новгород</td>\n",
       "      <td>...</td>\n",
       "      <td>10.07.2022</td>\n",
       "      <td>NaN</td>\n",
       "      <td>NaN</td>\n",
       "      <td>NaN</td>\n",
       "      <td>Нет</td>\n",
       "      <td>Нет</td>\n",
       "      <td>Нет</td>\n",
       "      <td>Нет</td>\n",
       "      <td>Нет</td>\n",
       "      <td>NaN</td>\n",
       "    </tr>\n",
       "    <tr>\n",
       "      <th>3</th>\n",
       "      <td>4</td>\n",
       "      <td>\"БАЗИС\" ОБЩЕСТВО С ОГРАНИЧЕННОЙ ОТВЕТСТВЕННОСТЬЮ</td>\n",
       "      <td>Юридическое лицо</td>\n",
       "      <td>Микропредприятие</td>\n",
       "      <td>1025204411682</td>\n",
       "      <td>5263025484</td>\n",
       "      <td>41.20 Строительство жилых и нежилых зданий</td>\n",
       "      <td>52 - Нижегородская область</td>\n",
       "      <td>NaN</td>\n",
       "      <td>г Нижний Новгород</td>\n",
       "      <td>...</td>\n",
       "      <td>NaN</td>\n",
       "      <td>NaN</td>\n",
       "      <td>NaN</td>\n",
       "      <td>NaN</td>\n",
       "      <td>Нет</td>\n",
       "      <td>Нет</td>\n",
       "      <td>Нет</td>\n",
       "      <td>Нет</td>\n",
       "      <td>Нет</td>\n",
       "      <td>1.0</td>\n",
       "    </tr>\n",
       "    <tr>\n",
       "      <th>4</th>\n",
       "      <td>5</td>\n",
       "      <td>\"БЕЛАГ\" ОБЩЕСТВО С ОГРАНИЧЕННОЙ ОТВЕТСТВЕННОСТЬЮ</td>\n",
       "      <td>Юридическое лицо</td>\n",
       "      <td>Не является субъектом МСП</td>\n",
       "      <td>1037800039276</td>\n",
       "      <td>7801123215</td>\n",
       "      <td>41.20 Строительство жилых и нежилых зданий</td>\n",
       "      <td>78 - г.Санкт-Петербург</td>\n",
       "      <td>NaN</td>\n",
       "      <td>NaN</td>\n",
       "      <td>...</td>\n",
       "      <td>10.07.2021</td>\n",
       "      <td>NaN</td>\n",
       "      <td>NaN</td>\n",
       "      <td>NaN</td>\n",
       "      <td>Нет</td>\n",
       "      <td>Нет</td>\n",
       "      <td>Нет</td>\n",
       "      <td>Нет</td>\n",
       "      <td>Нет</td>\n",
       "      <td>NaN</td>\n",
       "    </tr>\n",
       "  </tbody>\n",
       "</table>\n",
       "<p>5 rows × 23 columns</p>\n",
       "</div>"
      ],
      "text/plain": [
       "   № п/п                                 Наименование / ФИО      Тип субъекта  \\\n",
       "0      1  \" МЕГАПОЛИС \" ОБЩЕСТВО С ОГРАНИЧЕННОЙ ОТВЕТСТВ...  Юридическое лицо   \n",
       "1      2  \" СТАЛЬИНВЕСТСТРОЙ \" ОБЩЕСТВО С ОГРАНИЧЕННОЙ О...  Юридическое лицо   \n",
       "2      3  \" СТРОЙТЕХНИКА - М \" ОБЩЕСТВО С ОГРАНИЧЕННОЙ О...  Юридическое лицо   \n",
       "3      4   \"БАЗИС\" ОБЩЕСТВО С ОГРАНИЧЕННОЙ ОТВЕТСТВЕННОСТЬЮ  Юридическое лицо   \n",
       "4      5   \"БЕЛАГ\" ОБЩЕСТВО С ОГРАНИЧЕННОЙ ОТВЕТСТВЕННОСТЬЮ  Юридическое лицо   \n",
       "\n",
       "                   Категория           ОГРН         ИНН  \\\n",
       "0  Не является субъектом МСП  1027800523376  7801190028   \n",
       "1  Не является субъектом МСП  1037800033545  7801227976   \n",
       "2  Не является субъектом МСП  1025204418293  5263039399   \n",
       "3           Микропредприятие  1025204411682  5263025484   \n",
       "4  Не является субъектом МСП  1037800039276  7801123215   \n",
       "\n",
       "                    Основной вид деятельности                      Регион  \\\n",
       "0   41.2 Строительство жилых и нежилых зданий      78 - г.Санкт-Петербург   \n",
       "1  41.20 Строительство жилых и нежилых зданий      78 - г.Санкт-Петербург   \n",
       "2  41.20 Строительство жилых и нежилых зданий  52 - Нижегородская область   \n",
       "3  41.20 Строительство жилых и нежилых зданий  52 - Нижегородская область   \n",
       "4  41.20 Строительство жилых и нежилых зданий      78 - г.Санкт-Петербург   \n",
       "\n",
       "  Район              Город  ... Дата исключения из реестра Телефон E-mail  \\\n",
       "0   NaN                NaN  ...                 10.10.2021     NaN    NaN   \n",
       "1   NaN                NaN  ...                 10.08.2018     NaN    NaN   \n",
       "2   NaN  г Нижний Новгород  ...                 10.07.2022     NaN    NaN   \n",
       "3   NaN  г Нижний Новгород  ...                        NaN     NaN    NaN   \n",
       "4   NaN                NaN  ...                 10.07.2021     NaN    NaN   \n",
       "\n",
       "   WWW Наличие лицензий Наличие заключенных договоров, контрактов  \\\n",
       "0  NaN              Нет                                       Нет   \n",
       "1  NaN              Нет                                       Нет   \n",
       "2  NaN              Нет                                       Нет   \n",
       "3  NaN              Нет                                       Нет   \n",
       "4  NaN              Нет                                       Нет   \n",
       "\n",
       "  Производство инновационной, высокотехнологичной продукции  \\\n",
       "0                                                Нет          \n",
       "1                                                Нет          \n",
       "2                                                Нет          \n",
       "3                                                Нет          \n",
       "4                                                Нет          \n",
       "\n",
       "  Участие в программах партнерства Является социальным предприятием  \\\n",
       "0                              Нет                              Нет   \n",
       "1                              Нет                              Нет   \n",
       "2                              Нет                              Нет   \n",
       "3                              Нет                              Нет   \n",
       "4                              Нет                              Нет   \n",
       "\n",
       "  Среднесписочная численность работников за предшествующий календарный год  \n",
       "0                                                NaN                        \n",
       "1                                                NaN                        \n",
       "2                                                NaN                        \n",
       "3                                                1.0                        \n",
       "4                                                NaN                        \n",
       "\n",
       "[5 rows x 23 columns]"
      ]
     },
     "execution_count": 608,
     "metadata": {},
     "output_type": "execute_result"
    }
   ],
   "source": [
    "df=pd.read_csv('output.csv', nrows=150000, header=2)\n",
    "df.head()"
   ]
  },
  {
   "cell_type": "code",
   "execution_count": 609,
   "id": "84ce49eb-e522-40fc-9afb-8e7f49bb20bd",
   "metadata": {},
   "outputs": [
    {
     "data": {
      "text/plain": [
       "(150000, 23)"
      ]
     },
     "execution_count": 609,
     "metadata": {},
     "output_type": "execute_result"
    }
   ],
   "source": [
    "df.shape"
   ]
  },
  {
   "cell_type": "markdown",
   "id": "64cacaf1-4d85-4b49-b281-2018ebde9f4b",
   "metadata": {},
   "source": [
    "Отберем подходящие нам объекты"
   ]
  },
  {
   "cell_type": "code",
   "execution_count": 610,
   "id": "ad159e72-b580-4e16-86f0-475b5ee2fa8d",
   "metadata": {},
   "outputs": [],
   "source": [
    "df_filter=df[(df['Тип субъекта']=='Юридическое лицо') \\\n",
    "          & ((df['Категория']=='Малое предприятие') | (df['Категория']=='Среднее предприятие')) \\\n",
    "          & (df['Основной вид деятельности']=='41.20 Строительство жилых и нежилых зданий')]"
   ]
  },
  {
   "cell_type": "code",
   "execution_count": 611,
   "id": "34383b13-ee91-4430-8495-131eacd10b4b",
   "metadata": {},
   "outputs": [
    {
     "data": {
      "text/plain": [
       "(716, 23)"
      ]
     },
     "execution_count": 611,
     "metadata": {},
     "output_type": "execute_result"
    }
   ],
   "source": [
    "df_filter.shape"
   ]
  },
  {
   "cell_type": "markdown",
   "id": "126b377e-d154-4e6f-8f1e-71f074496df5",
   "metadata": {},
   "source": [
    "Для парсинга данных с сайта бухгалтерской отчетности создадим две функции, одна из них будет возвращать два списка: список показателя EBIT с 2020 по 2024 года, список чистой прибыли с 2020 по 2024 года. При отсутствии данных заполним пропуски нулями. Другая функция будет возвращать координаты регистрации предпринимателя. Так как процесс парсинга не быстрый, положим все данные в csv файл, чтобы не потерять их и далее работать с ними."
   ]
  },
  {
   "cell_type": "code",
   "execution_count": 612,
   "id": "3e1fd73e-e703-458e-b0f3-9d4ac3729873",
   "metadata": {},
   "outputs": [],
   "source": [
    "headers = {\n",
    "    \"User-Agent\": \"Mozilla/5.0 (Windows NT 10.0; Win64; x64) AppleWebKit/537.36 (KHTML, like Gecko) Chrome/112.0.0.0 Safari/537.36\",\n",
    "    \"Accept\": \"application/json, text/plain, */*\",\n",
    "    \"X-Requested-With\": \"XMLHttpRequest\"\n",
    "    }\n",
    "session = requests.Session()\n",
    "\n",
    "def get_cp_ebit(x):\n",
    "    res = session.get(f\"https://bo.nalog.gov.ru/advanced-search/organizations/search?query={x}&page=0&size=20\", timeout=5, headers=headers).json()\n",
    "    if res[\"content\"]==[]:\n",
    "        return pd.Series([[],[]])\n",
    "    org_id = res[\"content\"][0][\"id\"]\n",
    "    response = session.get(f\"https://bo.nalog.gov.ru/nbo/organizations/{org_id}/bfo/\", timeout=5, headers=headers).json()\n",
    "\n",
    "    try:\n",
    "        lis_cp=[]\n",
    "        for year in response:\n",
    "            try:\n",
    "                lis_cp.append(year['typeCorrections'][0]['correction']['financialResult']['current2400'])\n",
    "            except:\n",
    "                lis_cp.append(0)\n",
    "    except:\n",
    "        lis_cp=[]\n",
    "    try:\n",
    "        lis_ebit=[]\n",
    "        for year in response:\n",
    "            try:\n",
    "                lis_ebit.append(year['typeCorrections'][0]['correction']['financialResult']['current2300'] \\\n",
    "                           + year['typeCorrections'][0]['correction']['financialResult']['current2330'] \\\n",
    "                           - year['typeCorrections'][0]['correction']['financialResult']['current2320'])\n",
    "            except:\n",
    "                lis_ebit.append(0)\n",
    "    except:\n",
    "        lis_ebit=[]\n",
    "    \n",
    "    return pd.Series([lis_ebit, lis_cp])\n",
    "\n",
    "\n",
    "        \n",
    "\n",
    "def get_coords(x):\n",
    "    res = session.get(f\"https://bo.nalog.gov.ru/advanced-search/organizations/search?query={x}&page=0&size=20\", timeout=5, headers=headers).json()\n",
    "    if res[\"content\"]==[]:\n",
    "        return pd.Series([None, None])\n",
    "    org_id = res[\"content\"][0][\"id\"]\n",
    "    response_1=session.get(f'https://bo.nalog.gov.ru/nbo/organizations/{org_id}', timeout=5, headers=headers).json()\n",
    "    try:\n",
    "        return pd.Series([response_1['location']['latitude'], response_1['location']['longitude']])\n",
    "    except:\n",
    "        return pd.Series([None, None])\n",
    "\n",
    "\n",
    "df_filter[['EBIT', 'Чистая прибыль']]=df_filter['ИНН'].apply(get_cp_ebit)\n",
    "df_filter[[ 'Широта', 'Долгота']]=df_filter['ИНН'].apply(get_coords)\n",
    "\n",
    "df_filter.to_csv('data.csv', index=False)"
   ]
  },
  {
   "cell_type": "markdown",
   "id": "58f56737-1d82-42e4-b8e7-04c7010c64e2",
   "metadata": {},
   "source": [
    "Обработаем спарсенный датасет, так как списки показателей EBIT и чистой прибыли не обязательно состоят из 5 элементов (для некоторых предпринимателей отчетность за некоторые года может отсутсвовать), дополним все списки до 5 элементов с помощью функции years, после чего разобьем каждый список на 5 новых признаков, каждый из которых отражает показатель предпринимателя/компании за конкретный год (итого 10 новых признаков). Также посчитаем процентный прирост чистой прибыль с 2020 по 2024 год."
   ]
  },
  {
   "cell_type": "code",
   "execution_count": 829,
   "id": "dbbbe433-a6d5-47f4-9c98-3ea7819b9266",
   "metadata": {
    "scrolled": true
   },
   "outputs": [
    {
     "data": {
      "text/html": [
       "<div>\n",
       "<style scoped>\n",
       "    .dataframe tbody tr th:only-of-type {\n",
       "        vertical-align: middle;\n",
       "    }\n",
       "\n",
       "    .dataframe tbody tr th {\n",
       "        vertical-align: top;\n",
       "    }\n",
       "\n",
       "    .dataframe thead th {\n",
       "        text-align: right;\n",
       "    }\n",
       "</style>\n",
       "<table border=\"1\" class=\"dataframe\">\n",
       "  <thead>\n",
       "    <tr style=\"text-align: right;\">\n",
       "      <th></th>\n",
       "      <th>№ п/п</th>\n",
       "      <th>Наименование / ФИО</th>\n",
       "      <th>Тип субъекта</th>\n",
       "      <th>Категория</th>\n",
       "      <th>ОГРН</th>\n",
       "      <th>ИНН</th>\n",
       "      <th>Основной вид деятельности</th>\n",
       "      <th>Регион</th>\n",
       "      <th>Район</th>\n",
       "      <th>Город</th>\n",
       "      <th>...</th>\n",
       "      <th>EBIT 2023</th>\n",
       "      <th>EBIT 2022</th>\n",
       "      <th>EBIT 2021</th>\n",
       "      <th>EBIT 2020</th>\n",
       "      <th>Чистая прибыль 2024</th>\n",
       "      <th>Чистая прибыль 2023</th>\n",
       "      <th>Чистая прибыль 2022</th>\n",
       "      <th>Чистая прибыль 2021</th>\n",
       "      <th>Чистая прибыль 2020</th>\n",
       "      <th>2024-2020 Рост чистой прибыли</th>\n",
       "    </tr>\n",
       "  </thead>\n",
       "  <tbody>\n",
       "    <tr>\n",
       "      <th>0</th>\n",
       "      <td>20</td>\n",
       "      <td>\"КОРПОРАЦИЯ ВИТ\" (ОБЩЕСТВО С ОГРАНИЧЕННОЙ ОТВЕ...</td>\n",
       "      <td>Юридическое лицо</td>\n",
       "      <td>Малое предприятие</td>\n",
       "      <td>1025004907080</td>\n",
       "      <td>5038038838</td>\n",
       "      <td>41.20 Строительство жилых и нежилых зданий</td>\n",
       "      <td>50 - Московская область</td>\n",
       "      <td>Пушкино г</td>\n",
       "      <td>NaN</td>\n",
       "      <td>...</td>\n",
       "      <td>-27628.0</td>\n",
       "      <td>10819.0</td>\n",
       "      <td>1060.0</td>\n",
       "      <td>10397.0</td>\n",
       "      <td>-20129.0</td>\n",
       "      <td>-20913.0</td>\n",
       "      <td>19518.0</td>\n",
       "      <td>3080.0</td>\n",
       "      <td>-8543.0</td>\n",
       "      <td>-136.0</td>\n",
       "    </tr>\n",
       "    <tr>\n",
       "      <th>1</th>\n",
       "      <td>52</td>\n",
       "      <td>\"ХОЗРАСЧЕТНАЯ СТРОИТЕЛЬНО-ТЕХНОЛОГИЧЕСКАЯ ФИРМ...</td>\n",
       "      <td>Юридическое лицо</td>\n",
       "      <td>Среднее предприятие</td>\n",
       "      <td>1025007270551</td>\n",
       "      <td>5027006369</td>\n",
       "      <td>41.20 Строительство жилых и нежилых зданий</td>\n",
       "      <td>50 - Московская область</td>\n",
       "      <td>NaN</td>\n",
       "      <td>г Дзержинский</td>\n",
       "      <td>...</td>\n",
       "      <td>709167.0</td>\n",
       "      <td>32110.0</td>\n",
       "      <td>0.0</td>\n",
       "      <td>0.0</td>\n",
       "      <td>28998.0</td>\n",
       "      <td>582441.0</td>\n",
       "      <td>31442.0</td>\n",
       "      <td>20376.0</td>\n",
       "      <td>29618.0</td>\n",
       "      <td>-2.0</td>\n",
       "    </tr>\n",
       "    <tr>\n",
       "      <th>2</th>\n",
       "      <td>4653</td>\n",
       "      <td>АКЦИОНЕРНОЕ ОБЩЕСТВО \"777\"</td>\n",
       "      <td>Юридическое лицо</td>\n",
       "      <td>Малое предприятие</td>\n",
       "      <td>1021400692048</td>\n",
       "      <td>1414006922</td>\n",
       "      <td>41.20 Строительство жилых и нежилых зданий</td>\n",
       "      <td>77 - г.Москва</td>\n",
       "      <td>NaN</td>\n",
       "      <td>NaN</td>\n",
       "      <td>...</td>\n",
       "      <td>0.0</td>\n",
       "      <td>0.0</td>\n",
       "      <td>0.0</td>\n",
       "      <td>-3607.0</td>\n",
       "      <td>54850.0</td>\n",
       "      <td>19889.0</td>\n",
       "      <td>3375.0</td>\n",
       "      <td>2092.0</td>\n",
       "      <td>-5382.0</td>\n",
       "      <td>1119.0</td>\n",
       "    </tr>\n",
       "    <tr>\n",
       "      <th>3</th>\n",
       "      <td>4668</td>\n",
       "      <td>АКЦИОНЕРНОЕ ОБЩЕСТВО \"АГРОТЕХИМПОРТ\"</td>\n",
       "      <td>Юридическое лицо</td>\n",
       "      <td>Малое предприятие</td>\n",
       "      <td>1043301806415</td>\n",
       "      <td>3327332190</td>\n",
       "      <td>41.20 Строительство жилых и нежилых зданий</td>\n",
       "      <td>33 - Владимирская область</td>\n",
       "      <td>NaN</td>\n",
       "      <td>г Владимир</td>\n",
       "      <td>...</td>\n",
       "      <td>0.0</td>\n",
       "      <td>0.0</td>\n",
       "      <td>0.0</td>\n",
       "      <td>0.0</td>\n",
       "      <td>47723.0</td>\n",
       "      <td>40101.0</td>\n",
       "      <td>30374.0</td>\n",
       "      <td>20565.0</td>\n",
       "      <td>18957.0</td>\n",
       "      <td>152.0</td>\n",
       "    </tr>\n",
       "    <tr>\n",
       "      <th>4</th>\n",
       "      <td>4674</td>\n",
       "      <td>АКЦИОНЕРНОЕ ОБЩЕСТВО \"АКС\"</td>\n",
       "      <td>Юридическое лицо</td>\n",
       "      <td>Малое предприятие</td>\n",
       "      <td>1027807999988</td>\n",
       "      <td>7816061297</td>\n",
       "      <td>41.20 Строительство жилых и нежилых зданий</td>\n",
       "      <td>78 - г.Санкт-Петербург</td>\n",
       "      <td>NaN</td>\n",
       "      <td>NaN</td>\n",
       "      <td>...</td>\n",
       "      <td>0.0</td>\n",
       "      <td>0.0</td>\n",
       "      <td>0.0</td>\n",
       "      <td>0.0</td>\n",
       "      <td>11674.0</td>\n",
       "      <td>565.0</td>\n",
       "      <td>444.0</td>\n",
       "      <td>1077.0</td>\n",
       "      <td>5273.0</td>\n",
       "      <td>121.0</td>\n",
       "    </tr>\n",
       "  </tbody>\n",
       "</table>\n",
       "<p>5 rows × 38 columns</p>\n",
       "</div>"
      ],
      "text/plain": [
       "   № п/п                                 Наименование / ФИО      Тип субъекта  \\\n",
       "0     20  \"КОРПОРАЦИЯ ВИТ\" (ОБЩЕСТВО С ОГРАНИЧЕННОЙ ОТВЕ...  Юридическое лицо   \n",
       "1     52  \"ХОЗРАСЧЕТНАЯ СТРОИТЕЛЬНО-ТЕХНОЛОГИЧЕСКАЯ ФИРМ...  Юридическое лицо   \n",
       "2   4653                         АКЦИОНЕРНОЕ ОБЩЕСТВО \"777\"  Юридическое лицо   \n",
       "3   4668               АКЦИОНЕРНОЕ ОБЩЕСТВО \"АГРОТЕХИМПОРТ\"  Юридическое лицо   \n",
       "4   4674                         АКЦИОНЕРНОЕ ОБЩЕСТВО \"АКС\"  Юридическое лицо   \n",
       "\n",
       "             Категория           ОГРН         ИНН  \\\n",
       "0    Малое предприятие  1025004907080  5038038838   \n",
       "1  Среднее предприятие  1025007270551  5027006369   \n",
       "2    Малое предприятие  1021400692048  1414006922   \n",
       "3    Малое предприятие  1043301806415  3327332190   \n",
       "4    Малое предприятие  1027807999988  7816061297   \n",
       "\n",
       "                    Основной вид деятельности                     Регион  \\\n",
       "0  41.20 Строительство жилых и нежилых зданий    50 - Московская область   \n",
       "1  41.20 Строительство жилых и нежилых зданий    50 - Московская область   \n",
       "2  41.20 Строительство жилых и нежилых зданий              77 - г.Москва   \n",
       "3  41.20 Строительство жилых и нежилых зданий  33 - Владимирская область   \n",
       "4  41.20 Строительство жилых и нежилых зданий     78 - г.Санкт-Петербург   \n",
       "\n",
       "       Район          Город  ... EBIT 2023 EBIT 2022 EBIT 2021  EBIT 2020  \\\n",
       "0  Пушкино г            NaN  ...  -27628.0   10819.0    1060.0    10397.0   \n",
       "1        NaN  г Дзержинский  ...  709167.0   32110.0       0.0        0.0   \n",
       "2        NaN            NaN  ...       0.0       0.0       0.0    -3607.0   \n",
       "3        NaN     г Владимир  ...       0.0       0.0       0.0        0.0   \n",
       "4        NaN            NaN  ...       0.0       0.0       0.0        0.0   \n",
       "\n",
       "  Чистая прибыль 2024 Чистая прибыль 2023 Чистая прибыль 2022  \\\n",
       "0            -20129.0            -20913.0             19518.0   \n",
       "1             28998.0            582441.0             31442.0   \n",
       "2             54850.0             19889.0              3375.0   \n",
       "3             47723.0             40101.0             30374.0   \n",
       "4             11674.0               565.0               444.0   \n",
       "\n",
       "  Чистая прибыль 2021 Чистая прибыль 2020 2024-2020 Рост чистой прибыли  \n",
       "0              3080.0             -8543.0                        -136.0  \n",
       "1             20376.0             29618.0                          -2.0  \n",
       "2              2092.0             -5382.0                        1119.0  \n",
       "3             20565.0             18957.0                         152.0  \n",
       "4              1077.0              5273.0                         121.0  \n",
       "\n",
       "[5 rows x 38 columns]"
      ]
     },
     "execution_count": 829,
     "metadata": {},
     "output_type": "execute_result"
    }
   ],
   "source": [
    "def years(x):\n",
    "    lis=list()\n",
    "    x=x[1:-1]\n",
    "    if len(x)>2:\n",
    "        for i in x.split(','):\n",
    "            j=float(i)\n",
    "            lis.append(i)\n",
    "    while len(lis)<5:\n",
    "        lis.append(0)\n",
    "    return pd.Series(lis, dtype='float64')\n",
    "\n",
    "df_pars=pd.read_csv('data.csv')\n",
    "\n",
    "df_pars[['EBIT 2024','EBIT 2023','EBIT 2022','EBIT 2021','EBIT 2020']]=df_pars['EBIT'].apply(years)\n",
    "df_pars[['Чистая прибыль 2024', 'Чистая прибыль 2023','Чистая прибыль 2022','Чистая прибыль 2021','Чистая прибыль 2020']]=df_pars['Чистая прибыль'].apply(years)\n",
    "\n",
    "df_pars['2024-2020 Рост чистой прибыли']=round((df_pars['Чистая прибыль 2024']-df_pars['Чистая прибыль 2020'])/abs(df_pars['Чистая прибыль 2020'])*100)\n",
    "\n",
    "df_pars.head()"
   ]
  },
  {
   "cell_type": "markdown",
   "id": "b2cc6a18-c3c2-48f2-8af3-cc1472656afe",
   "metadata": {},
   "source": [
    "Будем строить график, отражающий количество компаний с разными (округленными) значениями процента роста чистой прибыли за период с 2020 по 2024 год. Для этого избавимся от компаний, имеющих в качестве значения процента NaN или inf. Посмотрим на статистику колонки процента роста чистой прибыли."
   ]
  },
  {
   "cell_type": "code",
   "execution_count": 830,
   "id": "bf0c6203-6aab-42b3-84ff-6992a8bd3e21",
   "metadata": {},
   "outputs": [
    {
     "data": {
      "text/plain": [
       "count       601.000000\n",
       "mean       3018.655574\n",
       "std       43461.810858\n",
       "min     -605108.000000\n",
       "25%         -97.000000\n",
       "50%           1.000000\n",
       "75%         263.000000\n",
       "max      663450.000000\n",
       "Name: 2024-2020 Рост чистой прибыли, dtype: float64"
      ]
     },
     "execution_count": 830,
     "metadata": {},
     "output_type": "execute_result"
    }
   ],
   "source": [
    "df_cl=df_pars[(df_pars['2024-2020 Рост чистой прибыли'].notnull()) & (~np.isinf(df_pars['2024-2020 Рост чистой прибыли']))]\n",
    "df_cl['2024-2020 Рост чистой прибыли'].describe()"
   ]
  },
  {
   "cell_type": "markdown",
   "id": "7873d67d-2049-4b87-b83f-4828aacefacf",
   "metadata": {},
   "source": [
    "Видим, что в датасете есть компании с процентным приростом (убытком) прибыли, исчисляемым сотнями тысяч. Можно предположить, что это компании, только начавшие свою деятельность в 2020 году или позже, будем считать такие компании выбросами. Выбросы разносят среднее значение прироста процента, делая его не показательным. Поэтому визуализируем только компании с процентным приростом (убытком) от -1000 до 1000 процентов."
   ]
  },
  {
   "cell_type": "code",
   "execution_count": 831,
   "id": "ba47e8d3-d3ce-4b06-bb72-b6d067b61a6c",
   "metadata": {},
   "outputs": [
    {
     "data": {
      "image/png": "[encoded data removed]",
      "text/plain": [
       "<Figure size 1200x600 with 1 Axes>"
      ]
     },
     "metadata": {},
     "output_type": "display_data"
    }
   ],
   "source": [
    "df_cl=df_cl[(df_cl['2024-2020 Рост чистой прибыли']>-1000) & (df_cl['2024-2020 Рост чистой прибыли']<1000)]\n",
    "\n",
    "sns.set_style(style=\"whitegrid\")\n",
    "sns.set_palette(\"pastel\")\n",
    "\n",
    "\n",
    "plt.figure(figsize=(12, 6))\n",
    "plt.xlabel('Процента прироста чистой прибыли с 2020 по 2024 год')\n",
    "plt.ylabel('Количество компаний')\n",
    "plt.title('Количество компаний по проценту прироста чистой прибыли')\n",
    "sns.histplot(x='2024-2020 Рост чистой прибыли', data=df_cl, bins=200)\n",
    "plt.show()"
   ]
  },
  {
   "cell_type": "markdown",
   "id": "0498dd0e-8988-4b50-b1ee-fc272fad045b",
   "metadata": {},
   "source": [
    "Вывод: наблюдаем следующую картину: большое количество компаний немного упали в чистой прибыли за прошедшие 4 года, однако количество компаний с крупным приростом чистой прибыль больше, чем количество компаний с крупным упадком чистой прибыли. В связи с этим средний прирост чистой прибыли находится около нуля. За 4 года компании в строительной сфере испытали резкий спад на фоне начала СВО и резкий подъем в 2023 году, в связи с чем количество компаний с огромным упадком чистой прибыли не так велико, однако большинство компаний все еще не вышли на чистую прибыль уровня 2020 года, в то время как некоторые компании смогли подстроиться под обстоятельства и стабильно расти. Можно предположить, что последнее меньшинство компаний - гиганты отрасли, устойчивые к перепадам рынка либо компании, только начавшие расти в период с 2020 по 2024 года.\n",
    "\n",
    "Далее построим два графика: изменение показателя EBIT с 2020 по 2024 год (в абсолютных значениях) и прирост EBIT по отношению к предыдущему году (для 2020 = 0, считаем этот год за базовый). EBIT считаем суммарно для всей строительной отрасли."
   ]
  },
  {
   "cell_type": "code",
   "execution_count": 832,
   "id": "2ed09f25-e5e3-4894-8d21-a30a13014e1f",
   "metadata": {},
   "outputs": [
    {
     "data": {
      "image/png": "[encoded data removed]",
      "text/plain": [
       "<Figure size 1500x600 with 2 Axes>"
      ]
     },
     "metadata": {},
     "output_type": "display_data"
    }
   ],
   "source": [
    "x=[2020,2021,2022,2023,2024]\n",
    "y=pd.Series([df_pars['EBIT 2020'].sum(), df_pars['EBIT 2021'].sum(),df_pars['EBIT 2022'].sum(),df_pars['EBIT 2023'].sum(),df_pars['EBIT 2024'].sum()])\n",
    "plt.subplots(1,2, figsize=(15,6))\n",
    "\n",
    "plt.subplot(1,2,1)\n",
    "plt.plot(x,y)\n",
    "plt.xticks(x)\n",
    "plt.xlabel('Год')\n",
    "plt.ylabel('EBIT')\n",
    "plt.title('График EBIT с 2020 по 2024 год')\n",
    "\n",
    "plt.subplot(1,2,2)\n",
    "y1=pd.Series([0, (y[1]-y[0])/y[0], (y[2]-y[1])/y[1], (y[3]-y[2])/y[2], (y[4]-y[3])/y[3]])\n",
    "sns.barplot(x=x,y=y1, palette=np.where(y1 >= 0, \"green\", \"red\"))\n",
    "plt.xlabel('Год')\n",
    "plt.ylabel('Процентный прирост')\n",
    "plt.title('Процентный прирост EBIT к предыдущему году')\n",
    "\n",
    "plt.show()"
   ]
  },
  {
   "cell_type": "markdown",
   "id": "ae18925b-0b4b-4dcc-94b7-6861defeca9e",
   "metadata": {},
   "source": [
    "Вывод: Данные графики позволяют сделать комплексные выводы по состоянию строительной сферы за 2020-2024 года. Можно увидеть, что в 2021 году наблюдался стабильный умеренный рост по сравнению с 2020 годом, однако в 2022 году рост сменился падением рынка, в связи с началом СВО. 2023 ознаменовался резким скачком строительного сектора. Это можно обьяснить адаптацией отрасли к новым реалиям (снижение себестоимости за счет импортнозамещения), льготными условиями ипотеки, стимулирующими спрос на жилье. 2024 год отражает скачок отрасли в обртаную сторону. Это можно объяснить политикой ЦБ РФ, нацеленной на снижение инфляции (а следовательно и совокупного выпуска) за счет повышения ключевой ставки. \n",
    "\n",
    "Наконец, нанесем на карту топ-500 компаний по суммарной чистой прибыль за 2020-2024 года."
   ]
  },
  {
   "cell_type": "code",
   "execution_count": 845,
   "id": "e450fc02-4aaf-4c46-a393-9af1850630bf",
   "metadata": {},
   "outputs": [
    {
     "data": {
      "application/vnd.plotly.v1+json": {
       "config": {
        "plotlyServerURL": "https://plot.ly"
       },
       "data": [
        {
         "customdata": [
          [
           4158824
          ],
          [
           3430922
          ],
          [
           3122079
          ],
          [
           2034697
          ],
          [
           1888452
          ],
          [
           1839175
          ],
          [
           1637249
          ],
          [
           1435897
          ],
          [
           1195850
          ],
          [
           1122744
          ],
          [
           1119869
          ],
          [
           1044740
          ],
          [
           989584
          ],
          [
           750197
          ],
          [
           731248
          ],
          [
           716701
          ],
          [
           706028
          ],
          [
           698089
          ],
          [
           692875
          ],
          [
           676544
          ],
          [
           619136
          ],
          [
           614510
          ],
          [
           608231
          ],
          [
           565711
          ],
          [
           565429
          ],
          [
           496061
          ],
          [
           494432
          ],
          [
           490551
          ],
          [
           484246
          ],
          [
           467375
          ],
          [
           461092
          ],
          [
           444433
          ],
          [
           443071
          ],
          [
           440233
          ],
          [
           437882
          ],
          [
           432371
          ],
          [
           428703
          ],
          [
           423136
          ],
          [
           417173
          ],
          [
           415451
          ],
          [
           412270
          ],
          [
           396937
          ],
          [
           390135
          ],
          [
           380904
          ],
          [
           366083
          ],
          [
           350806
          ],
          [
           343882
          ],
          [
           338321
          ],
          [
           331861
          ],
          [
           319086
          ],
          [
           318854
          ],
          [
           308344
          ],
          [
           304999
          ],
          [
           303565
          ],
          [
           290960
          ],
          [
           286828
          ],
          [
           281006
          ],
          [
           276252
          ],
          [
           272304
          ],
          [
           260337
          ],
          [
           252360
          ],
          [
           251670
          ],
          [
           249888
          ],
          [
           245627
          ],
          [
           245178
          ],
          [
           242493
          ],
          [
           238201
          ],
          [
           232983
          ],
          [
           222920
          ],
          [
           220561
          ],
          [
           216765
          ],
          [
           209157
          ],
          [
           200736
          ],
          [
           200565
          ],
          [
           198833
          ],
          [
           189847
          ],
          [
           187858
          ],
          [
           185277
          ],
          [
           178545
          ],
          [
           177868
          ],
          [
           172129
          ],
          [
           166271
          ],
          [
           165079
          ],
          [
           160002
          ],
          [
           157720
          ],
          [
           156019
          ],
          [
           154145
          ],
          [
           151857
          ],
          [
           151266
          ],
          [
           149905
          ],
          [
           148331
          ],
          [
           146157
          ],
          [
           144268
          ],
          [
           143994
          ],
          [
           142683
          ],
          [
           138688
          ],
          [
           138033
          ],
          [
           137749
          ],
          [
           137434
          ],
          [
           135643
          ],
          [
           135171
          ],
          [
           130038
          ],
          [
           127877
          ],
          [
           126596
          ],
          [
           126426
          ],
          [
           124542
          ],
          [
           124118
          ],
          [
           123419
          ],
          [
           123143
          ],
          [
           120186
          ],
          [
           118245
          ],
          [
           117679
          ],
          [
           115102
          ],
          [
           111969
          ],
          [
           108005
          ],
          [
           107303
          ],
          [
           107108
          ],
          [
           106632
          ],
          [
           100114
          ],
          [
           98547
          ],
          [
           95847
          ],
          [
           95540
          ],
          [
           93357
          ],
          [
           92893
          ],
          [
           91842
          ],
          [
           91243
          ],
          [
           90798
          ],
          [
           89942
          ],
          [
           89459
          ],
          [
           87470
          ],
          [
           87119
          ],
          [
           86107
          ],
          [
           85508
          ],
          [
           85345
          ],
          [
           84992
          ],
          [
           81577
          ],
          [
           81355
          ],
          [
           80803
          ],
          [
           80568
          ],
          [
           80459
          ],
          [
           78052
          ],
          [
           76053
          ],
          [
           75981
          ],
          [
           75278
          ],
          [
           74824
          ],
          [
           73882
          ],
          [
           73363
          ],
          [
           72736
          ],
          [
           72249
          ],
          [
           69957
          ],
          [
           69624
          ],
          [
           67665
          ],
          [
           65329
          ],
          [
           64676
          ],
          [
           64130
          ],
          [
           63602
          ],
          [
           63473
          ],
          [
           63464
          ],
          [
           63405
          ],
          [
           63401
          ],
          [
           62941
          ],
          [
           62932
          ],
          [
           62217
          ],
          [
           62050
          ],
          [
           61926
          ],
          [
           61219
          ],
          [
           60736
          ],
          [
           59986
          ],
          [
           59879
          ],
          [
           57622
          ],
          [
           56738
          ],
          [
           56636
          ],
          [
           56507
          ],
          [
           56396
          ],
          [
           56388
          ],
          [
           56302
          ],
          [
           56106
          ],
          [
           56032
          ],
          [
           55745
          ],
          [
           55698
          ],
          [
           55618
          ],
          [
           54863
          ],
          [
           54412
          ],
          [
           54038
          ],
          [
           52789
          ],
          [
           52007
          ],
          [
           51590
          ],
          [
           51407
          ],
          [
           51352
          ],
          [
           51236
          ],
          [
           51168
          ],
          [
           51112
          ],
          [
           51105
          ],
          [
           50163
          ],
          [
           48268
          ],
          [
           46914
          ],
          [
           46753
          ],
          [
           46671
          ],
          [
           45371
          ],
          [
           45237
          ],
          [
           44520
          ],
          [
           44390
          ],
          [
           44156
          ],
          [
           43778
          ],
          [
           42534
          ],
          [
           41863
          ],
          [
           41682
          ],
          [
           41206
          ],
          [
           41107
          ],
          [
           40645
          ],
          [
           40633
          ],
          [
           40448
          ],
          [
           40309
          ],
          [
           39880
          ],
          [
           39741
          ],
          [
           39132
          ],
          [
           39012
          ],
          [
           38547
          ],
          [
           38500
          ],
          [
           38211
          ],
          [
           38086
          ],
          [
           37413
          ],
          [
           37407
          ],
          [
           37003
          ],
          [
           36966
          ],
          [
           36849
          ],
          [
           36186
          ],
          [
           36166
          ],
          [
           36043
          ],
          [
           35909
          ],
          [
           35867
          ],
          [
           35677
          ],
          [
           35599
          ],
          [
           35567
          ],
          [
           35470
          ],
          [
           35465
          ],
          [
           35197
          ],
          [
           34379
          ],
          [
           34287
          ],
          [
           33786
          ],
          [
           33600
          ],
          [
           33433
          ],
          [
           32966
          ],
          [
           32954
          ],
          [
           32854
          ],
          [
           32525
          ],
          [
           32419
          ],
          [
           31924
          ],
          [
           31852
          ],
          [
           31736
          ],
          [
           31536
          ],
          [
           31385
          ],
          [
           30416
          ],
          [
           29966
          ],
          [
           29877
          ],
          [
           29779
          ],
          [
           29717
          ],
          [
           29467
          ],
          [
           29381
          ],
          [
           29319
          ],
          [
           29299
          ],
          [
           29229
          ],
          [
           29208
          ],
          [
           29187
          ],
          [
           28806
          ],
          [
           28241
          ],
          [
           28092
          ],
          [
           27975
          ],
          [
           27565
          ],
          [
           26835
          ],
          [
           26700
          ],
          [
           26671
          ],
          [
           26587
          ],
          [
           26341
          ],
          [
           26237
          ],
          [
           26036
          ],
          [
           25601
          ],
          [
           25540
          ],
          [
           25262
          ],
          [
           25260
          ],
          [
           25071
          ],
          [
           24998
          ],
          [
           24953
          ],
          [
           24861
          ],
          [
           24730
          ],
          [
           24652
          ],
          [
           24504
          ],
          [
           24487
          ],
          [
           24139
          ],
          [
           23682
          ],
          [
           23523
          ],
          [
           23226
          ],
          [
           23026
          ],
          [
           22880
          ],
          [
           22804
          ],
          [
           22675
          ],
          [
           22652
          ],
          [
           22448
          ],
          [
           21999
          ],
          [
           21963
          ],
          [
           21839
          ],
          [
           21830
          ],
          [
           21699
          ],
          [
           21601
          ],
          [
           21361
          ],
          [
           21251
          ],
          [
           20893
          ],
          [
           20873
          ],
          [
           20246
          ],
          [
           20126
          ],
          [
           19782
          ],
          [
           19676
          ],
          [
           19627
          ],
          [
           19549
          ],
          [
           19326
          ],
          [
           19148
          ],
          [
           19126
          ],
          [
           19033
          ],
          [
           19014
          ],
          [
           18768
          ],
          [
           18239
          ],
          [
           18060
          ],
          [
           17980
          ],
          [
           17591
          ],
          [
           17434
          ],
          [
           17323
          ],
          [
           16954
          ],
          [
           16816
          ],
          [
           16763
          ],
          [
           16729
          ],
          [
           16308
          ],
          [
           16231
          ],
          [
           16206
          ],
          [
           16143
          ],
          [
           16134
          ],
          [
           16128
          ],
          [
           16108
          ],
          [
           15979
          ],
          [
           15736
          ],
          [
           15527
          ],
          [
           15394
          ],
          [
           15338
          ],
          [
           15296
          ],
          [
           14662
          ],
          [
           14652
          ],
          [
           14642
          ],
          [
           14583
          ],
          [
           14146
          ],
          [
           14142
          ],
          [
           14106
          ],
          [
           14034
          ],
          [
           14009
          ],
          [
           13594
          ],
          [
           13312
          ],
          [
           13148
          ],
          [
           13034
          ],
          [
           12920
          ],
          [
           12687
          ],
          [
           12592
          ],
          [
           12273
          ],
          [
           12104
          ],
          [
           12038
          ],
          [
           11912
          ],
          [
           11902
          ],
          [
           11851
          ],
          [
           11675
          ],
          [
           11587
          ],
          [
           11468
          ],
          [
           11436
          ],
          [
           11387
          ],
          [
           11314
          ],
          [
           11306
          ],
          [
           11238
          ],
          [
           10179
          ],
          [
           10132
          ],
          [
           10037
          ],
          [
           10026
          ],
          [
           9951
          ],
          [
           9799
          ],
          [
           9734
          ],
          [
           9705
          ],
          [
           9609
          ],
          [
           9594
          ],
          [
           9455
          ],
          [
           9388
          ],
          [
           9322
          ],
          [
           9296
          ],
          [
           9285
          ],
          [
           9049
          ],
          [
           8592
          ],
          [
           8536
          ],
          [
           8492
          ],
          [
           8456
          ],
          [
           8215
          ],
          [
           8062
          ],
          [
           8030
          ],
          [
           7995
          ],
          [
           7895
          ],
          [
           7870
          ],
          [
           7793
          ],
          [
           7757
          ],
          [
           7753
          ],
          [
           7736
          ],
          [
           7721
          ],
          [
           7650
          ],
          [
           7614
          ],
          [
           7573
          ],
          [
           7524
          ],
          [
           7441
          ],
          [
           7347
          ],
          [
           7269
          ],
          [
           7245
          ],
          [
           7183
          ],
          [
           7174
          ],
          [
           7137
          ],
          [
           7066
          ],
          [
           7060
          ],
          [
           6881
          ],
          [
           6854
          ],
          [
           6664
          ],
          [
           6547
          ],
          [
           6507
          ],
          [
           6388
          ],
          [
           6362
          ],
          [
           6301
          ],
          [
           6286
          ],
          [
           6250
          ],
          [
           6238
          ],
          [
           6226
          ],
          [
           6195
          ],
          [
           6194
          ],
          [
           6032
          ],
          [
           5990
          ],
          [
           5797
          ],
          [
           5723
          ],
          [
           5653
          ],
          [
           5638
          ],
          [
           5597
          ],
          [
           5571
          ],
          [
           5554
          ],
          [
           5160
          ],
          [
           4960
          ],
          [
           4865
          ],
          [
           4848
          ],
          [
           4617
          ],
          [
           4399
          ],
          [
           4333
          ],
          [
           4327
          ],
          [
           4240
          ],
          [
           4135
          ],
          [
           4108
          ],
          [
           4078
          ],
          [
           4025
          ],
          [
           3980
          ],
          [
           3961
          ],
          [
           3952
          ],
          [
           3813
          ],
          [
           3703
          ],
          [
           3671
          ],
          [
           3558
          ],
          [
           3550
          ],
          [
           3433
          ],
          [
           3415
          ],
          [
           3382
          ],
          [
           3381
          ],
          [
           3282
          ],
          [
           3255
          ],
          [
           3249
          ],
          [
           3209
          ],
          [
           3173
          ],
          [
           3154
          ],
          [
           3122
          ],
          [
           3006
          ],
          [
           2962
          ],
          [
           2928
          ],
          [
           2877
          ],
          [
           2830
          ],
          [
           2768
          ],
          [
           2747
          ],
          [
           2729
          ],
          [
           2603
          ],
          [
           2475
          ],
          [
           2434
          ],
          [
           2374
          ],
          [
           2297
          ],
          [
           2290
          ],
          [
           2287
          ],
          [
           2240
          ],
          [
           2237
          ],
          [
           2229
          ],
          [
           2145
          ],
          [
           2090
          ],
          [
           2060
          ],
          [
           2025
          ],
          [
           1987
          ],
          [
           1932
          ],
          [
           1802
          ],
          [
           1800
          ],
          [
           1776
          ],
          [
           1751
          ]
         ],
         "hovertemplate": "<b>%{hovertext}</b><br><br>Широта=%{lat}<br>Долгота=%{lon}<br>Чистая прибыль сумма=%{customdata[0]}<extra></extra>",
         "hovertext": [
          "г Владивосток",
          "г Петрозаводск",
          null,
          "г Смоленск",
          "г Чебоксары",
          null,
          null,
          null,
          "г Чебоксары",
          null,
          null,
          null,
          "г Челябинск",
          null,
          "г Старый Оскол",
          "г Йошкар-Ола",
          null,
          "г Екатеринбург",
          "г Дзержинский",
          "г Калининград",
          "г Брянск",
          null,
          "г Йошкар-Ола",
          null,
          null,
          null,
          "г Калининград",
          "г Чебоксары",
          null,
          "г Якутск",
          "г Новосибирск",
          "г Липецк",
          null,
          null,
          "г Саратов",
          null,
          null,
          "г Краснодар",
          "г Домодедово",
          "г Благовещенск",
          "г Новосибирск",
          "г Архангельск",
          "г. Электросталь",
          "г Пермь",
          null,
          null,
          null,
          "г Кострома",
          "г Краснодар",
          "г Екатеринбург",
          "г Анапа",
          "г Волгоград",
          null,
          null,
          "г Томск",
          null,
          "г Краснодар",
          null,
          "г Благовещенск",
          "г Чебоксары",
          "г Екатеринбург",
          "г Раменское",
          "г Сочи",
          null,
          "г Саранск",
          "г Комсомольск-на-Амуре",
          "г Рязань",
          null,
          "г Вологда",
          null,
          "ГОРОД МАХАЧКАЛА",
          null,
          "г Анапа",
          null,
          "г Новосибирск",
          null,
          null,
          null,
          "г Красноярск",
          "г Самара",
          null,
          null,
          null,
          "ГОРОД ДЕРБЕНТ",
          "г Владимир",
          "г Красноярск",
          "г Волгоград",
          "г Краснодар",
          "г Элиста",
          null,
          "г Омск",
          null,
          null,
          "г Псков",
          "г Новосибирск",
          "г Йошкар-Ола",
          "г Тюмень",
          "г Долгопрудный",
          "г Геленджик",
          "г Кострома",
          "г Владимир",
          "г Брянск",
          "г Дзержинский",
          "г Томск",
          null,
          null,
          "г Ростов-на-Дону",
          "г Вичуга",
          "г Дзержинский",
          null,
          "г Химки",
          null,
          "г Обнинск",
          null,
          "г Северобайкальск",
          null,
          "г Курск",
          "г Уфа",
          "г Владивосток",
          "г Киров",
          null,
          null,
          null,
          "г Можга",
          "г Магнитогорск",
          "г Казань",
          null,
          null,
          "г Верхний Тагил",
          "г Нальчик",
          null,
          null,
          null,
          "г Нижний Новгород",
          "г Кызыл",
          "г Моздок",
          null,
          "г Волгоград",
          "г Калининград",
          "г Старый Оскол",
          null,
          "г Иваново",
          "г Петергоф",
          null,
          null,
          null,
          "г Симферополь",
          "г Оренбург",
          "г Самара",
          "г Калининград",
          "г Воронеж",
          "г Иркутск",
          "г Екатеринбург",
          "г Владикавказ",
          null,
          null,
          "г Челябинск",
          null,
          "г Анапа",
          "г Красногорск",
          "г Новосибирск",
          "г Сочи",
          null,
          "г Рыбное",
          "г Казань",
          "г Мытищи",
          "г Анадырь",
          null,
          "г Екатеринбург",
          null,
          null,
          "г Воронеж",
          "г Ялта",
          "г Новосибирск",
          "г Калининград",
          "г Мытищи",
          null,
          "г Всеволожск",
          null,
          null,
          "г Екатеринбург",
          null,
          "г Воронеж",
          "г Владикавказ",
          null,
          null,
          null,
          null,
          null,
          null,
          "г Цивильск",
          "г Абакан",
          null,
          null,
          "г Тюмень",
          "г Липецк",
          null,
          "г Красноярск",
          "г Иваново",
          "г Грозный",
          "г Калининград",
          "г Краснодар",
          "г Химки",
          "г Иркутск",
          "г Благовещенск",
          "г Углич",
          "г Махачкала",
          "г Хабаровск",
          null,
          "г Солнечногорск",
          "г Старый Оскол",
          "г Татарск",
          "г Тюмень",
          "г Якутск",
          "г Волгоград",
          "г Златоуст",
          "г Пенза",
          "г Ханты-Мансийск",
          "г Брянск",
          "г Новосибирск",
          "г Кашин",
          null,
          "г Казань",
          "г Киров",
          "г Уфа",
          "г Самара",
          "г Калининград",
          "г Кумертау",
          null,
          "г Грозный",
          null,
          null,
          "г Красноярск",
          "г Симферополь",
          null,
          "г Ярославль",
          "г Жуковский",
          null,
          "г Владикавказ",
          "г Саратов",
          "г Белгород",
          null,
          null,
          null,
          null,
          null,
          null,
          "г Нефтеюганск",
          "г Бердск",
          null,
          null,
          null,
          "г Ялта",
          null,
          null,
          "г Махачкала",
          null,
          "г Новосибирск",
          "г Черноголовка",
          null,
          null,
          "г Екатеринбург",
          null,
          "г Тюмень",
          null,
          "г Екатеринбург",
          null,
          "г Старый Оскол",
          null,
          "г Смоленск",
          null,
          "г Челябинск",
          "г Ростов-на-Дону",
          null,
          "г Нижний Новгород",
          "г Красноярск",
          null,
          "г Чайковский",
          null,
          null,
          "г Саки",
          "г Белокуриха",
          null,
          "г Батайск",
          null,
          null,
          "г Хабаровск",
          "г Звенигород",
          "г Пермь",
          "г Хабаровск",
          null,
          null,
          null,
          "г Лениногорск",
          "г Троицк",
          "г Красноярск",
          null,
          "г Магнитогорск",
          "г Шебекино",
          null,
          null,
          "г Светлогорск",
          null,
          null,
          "г Махачкала",
          null,
          "г Екатеринбург",
          "г Балашиха",
          null,
          null,
          null,
          "г Троицк",
          "г Новоуральск",
          "г Саратов",
          "г Тверь",
          "г Орёл",
          "г Омск",
          null,
          "г Балашиха",
          "г Омск",
          null,
          "г Ярославль",
          "г Липецк",
          null,
          null,
          "г Казань",
          "г Липецк",
          "г Владикавказ",
          "г Махачкала",
          "г Подольск",
          "г Казань",
          null,
          "г Карачаевск",
          "г Саранск",
          null,
          null,
          "г Нижневартовск",
          "г Красногорск",
          null,
          "г Нижнекамск",
          null,
          "г Махачкала",
          "г Карасук",
          "г Воронеж",
          "г Иркутск",
          "г Змеиногорск",
          "г Ярославль",
          "г Брянск",
          null,
          "г Волгоград",
          "г Нижний Новгород",
          "г Новосибирск",
          "г Орск",
          "г Отрадное",
          "г Тюмень",
          null,
          null,
          "г Саранск",
          null,
          null,
          "г Шимановск",
          "г Беломорск",
          "г Уфа",
          null,
          "г Тольятти",
          "г Иркутск",
          null,
          null,
          "г Екатеринбург",
          "г Томск",
          "г Грозный",
          "г Калининград",
          "г Нижний Новгород",
          null,
          "г Саянск",
          null,
          null,
          null,
          null,
          null,
          "г Екатеринбург",
          null,
          null,
          "г Барнаул",
          "г Пермь",
          null,
          null,
          "г Красноярск",
          null,
          "г Хабаровск",
          "г Томск",
          "г Демидов",
          "г Ярославль",
          null,
          null,
          null,
          "г Владивосток",
          "г Пермь",
          null,
          "г Орск",
          null,
          "г Тула",
          null,
          "г Воронеж",
          "г Сасово",
          "г Архангельск",
          "г Новосибирск",
          null,
          "г Боровичи",
          null,
          null,
          "г Зубцов",
          "г Барнаул",
          null,
          "г Владивосток",
          "г Чебоксары",
          "г Искитим",
          "г Новосибирск",
          null,
          "г Находка",
          "г Хабаровск",
          null,
          "г Ставрополь",
          "г Казань",
          null,
          null,
          null,
          "г Ртищево",
          "г Петрозаводск",
          "г Шумерля",
          "г Брянск",
          "г Уфа",
          null,
          null,
          "г Симферополь",
          "г Рязань",
          "г Звенигород",
          null,
          null,
          "г Курск",
          "г Великий Новгород",
          "г Екатеринбург",
          null,
          "г Новосибирск",
          "г Тюмень",
          "г Казань",
          null,
          "г Новокузнецк",
          null,
          null,
          "г Киров",
          null,
          null,
          null,
          null,
          "г Симферополь",
          "г Горно-Алтайск",
          "г Красноярск",
          null,
          null,
          "г Уфа",
          null,
          null,
          null,
          "г Северодвинск",
          "г Иваново",
          "г Череповец",
          "г Нижний Новгород",
          "г Россошь",
          null,
          "г Урюпинск",
          "г Саратов",
          null,
          "г Азов",
          null,
          "г. Кукмор",
          "г Уфа",
          null,
          null,
          "г Зеленодольск",
          "г Казань",
          "г. Жиздра",
          "г Уфа",
          "г Тюмень",
          null,
          null,
          null,
          null,
          "г Липецк",
          "г Обнинск",
          "г Симферополь",
          "г Обнинск",
          "г Гудермес",
          null,
          "г Кемерово",
          "г Краснодар",
          "г Астрахань",
          "г Троицк",
          null,
          "г Тюмень"
         ],
         "lat": [
          43.11725,
          61.799576,
          null,
          54.76772,
          56.137375,
          59.905365,
          56.318256,
          56.318256,
          56.137375,
          55.78767,
          55.820213,
          55.761635,
          55.15644,
          59.953926,
          51.312783,
          56.633286,
          59.937054,
          56.843575,
          55.67241,
          54.711821,
          53.263046,
          55.686058,
          56.633286,
          59.884026,
          55.7601,
          59.937054,
          54.711821,
          56.137375,
          55.761635,
          62.03571,
          55.01924,
          52.602722,
          59.884026,
          55.65519,
          51.493088,
          54.944096,
          55.8064,
          45.05121,
          55.435013,
          50.26888,
          55.024044,
          64.548256,
          55.791946,
          58.010288,
          55.7058,
          55.761635,
          44.604829,
          57.758297,
          45.05121,
          56.78366,
          44.885674,
          48.72413,
          55.686058,
          55.708755,
          56.475487,
          55.7826,
          45.055992,
          59.879421,
          50.26888,
          56.137375,
          56.841537,
          55.605724,
          43.5502,
          55.66832,
          54.222286,
          50.560238,
          54.62677,
          59.937054,
          59.217236,
          55.6736,
          42.95503,
          null,
          44.885674,
          55.761635,
          55.01924,
          55.812767,
          55.6736,
          55.733273,
          55.981007,
          53.204678,
          59.921696,
          55.809975,
          55.7058,
          42.065636,
          56.146744,
          56.01609,
          48.72413,
          45.020824,
          null,
          55.65519,
          55.0239,
          55.784634,
          55.761635,
          57.808414,
          55.024044,
          56.633286,
          57.14979,
          55.893463,
          44.562664,
          57.758297,
          56.146744,
          53.263046,
          55.67241,
          54.862396,
          59.913265,
          55.659355,
          47.206347,
          57.445698,
          55.67241,
          59.96222,
          55.893463,
          null,
          55.098793,
          55.761635,
          52.053635,
          55.082603,
          null,
          54.73957,
          43.12332,
          58.500217,
          55.659355,
          55.393627,
          59.921696,
          56.442856,
          53.387398,
          55.7987,
          55.812767,
          55.659355,
          57.49023,
          43.376965,
          55.11742,
          57.309647,
          55.648308,
          56.321835,
          51.721313,
          43.747368,
          59.96222,
          48.654827,
          null,
          51.312783,
          59.984383,
          56.996216,
          59.875587,
          55.761635,
          55.708755,
          55.733273,
          44.948237,
          51.77266,
          53.204678,
          54.711821,
          51.661526,
          52.288754,
          56.843575,
          43.054523,
          null,
          52.759018,
          55.17518,
          55.733273,
          44.885674,
          55.830166,
          55.094475,
          43.5502,
          55.7826,
          54.604338,
          55.7987,
          55.90775,
          43.12332,
          59.921696,
          56.78366,
          null,
          55.573439,
          51.657482,
          44.500515,
          55.021101,
          54.711821,
          55.90775,
          55.48972,
          null,
          59.834816,
          43.320866,
          56.819744,
          44.873978,
          51.681255,
          43.054523,
          59.984383,
          55.708755,
          55.644405,
          55.8064,
          59.984383,
          null,
          55.860554,
          53.736767,
          55.8064,
          59.834816,
          57.14979,
          52.59709,
          58.543297,
          56.022453,
          56.996216,
          43.320866,
          54.711821,
          45.055992,
          55.893463,
          52.288647,
          50.26888,
          57.528744,
          42.95503,
          48.496307,
          59.999725,
          56.18363,
          51.312783,
          53.7376,
          57.14979,
          null,
          48.654827,
          55.11758,
          53.186066,
          61.00211,
          53.263046,
          55.021101,
          56.871994,
          null,
          55.76715,
          58.500217,
          54.726185,
          53.204678,
          54.711821,
          53.449301,
          55.784634,
          43.320866,
          55.76715,
          55.733273,
          56.04714,
          44.948237,
          59.999725,
          57.62693,
          55.605724,
          55.70925,
          43.054523,
          51.569134,
          50.614616,
          57.758297,
          55.6736,
          55.761635,
          55.833813,
          52.407578,
          55.877316,
          61.08601,
          54.63525,
          59.937054,
          59.96222,
          55.77599,
          44.500515,
          55.77599,
          55.784634,
          42.95503,
          55.708755,
          54.979702,
          55.854576,
          53.09111,
          55.72403,
          56.841537,
          55.7058,
          57.14979,
          53.098034,
          56.843575,
          55.65519,
          51.312783,
          55.761635,
          54.76772,
          59.913265,
          55.15606,
          47.232028,
          59.999725,
          null,
          56.04714,
          55.77599,
          56.87973,
          42.823627,
          55.7826,
          45.18503,
          52.516736,
          55.644405,
          47.135723,
          55.849888,
          59.879421,
          48.49095,
          55.6736,
          57.975723,
          48.496307,
          55.8064,
          55.644405,
          53.30905,
          54.539043,
          55.573439,
          56.04714,
          59.879421,
          53.387398,
          50.550877,
          55.849888,
          59.913265,
          54.77788,
          55.70925,
          55.6736,
          42.95503,
          52.500988,
          56.888893,
          55.79555,
          null,
          55.809975,
          51.781174,
          55.573439,
          57.49023,
          51.569134,
          56.829468,
          53.00224,
          54.971985,
          59.884026,
          55.79555,
          null,
          59.937054,
          57.62693,
          52.602722,
          59.834816,
          55.32348,
          55.83528,
          52.59709,
          43.054523,
          42.95503,
          55.43018,
          55.833813,
          55.739307,
          44.083267,
          null,
          59.953926,
          55.64164,
          60.934563,
          55.830166,
          59.95366,
          55.64164,
          54.539043,
          42.979862,
          53.7376,
          51.657482,
          52.288754,
          51.54108,
          57.63807,
          53.263046,
          null,
          48.654827,
          56.310937,
          54.979702,
          51.226494,
          59.88325,
          57.14979,
          55.72403,
          55.761635,
          54.197906,
          54.1837,
          59.95366,
          51.368725,
          63.74548,
          54.814243,
          59.946827,
          53.547606,
          52.288754,
          59.879421,
          55.65519,
          56.843575,
          56.475487,
          43.320866,
          54.711821,
          56.241116,
          54.420105,
          54.10929,
          59.834816,
          55.854576,
          55.648308,
          43.234562,
          55.686058,
          56.833664,
          43.791794,
          51.365746,
          53.337444,
          57.975723,
          54.420105,
          55.739307,
          56.04714,
          54.77788,
          48.496307,
          56.475487,
          54.948578,
          57.632626,
          55.849888,
          55.834743,
          55.6736,
          43.167618,
          58.010288,
          59.879421,
          51.226494,
          59.921696,
          54.1837,
          59.937054,
          51.657482,
          54.34061,
          64.548256,
          54.862396,
          59.953926,
          58.399807,
          58.543297,
          55.733273,
          56.26489,
          53.337444,
          59.857727,
          43.167618,
          56.137375,
          54.63525,
          54.979702,
          55.644405,
          42.823627,
          48.49095,
          55.750225,
          45.03719,
          55.7987,
          56.89768,
          55.67241,
          null,
          52.259782,
          61.799576,
          55.49919,
          53.263046,
          54.726185,
          55.70925,
          55.7058,
          44.948237,
          54.62677,
          55.6736,
          42.823627,
          55.812767,
          51.6994,
          58.543297,
          56.819744,
          55.72403,
          55.08427,
          57.14979,
          55.7987,
          59.884026,
          53.745888,
          null,
          55.7826,
          58.500217,
          43.862095,
          55.8064,
          59.96222,
          55.877316,
          44.948237,
          51.9573,
          56.04714,
          59.834816,
          59.879421,
          54.737554,
          59.984383,
          55.8064,
          55.72403,
          64.570175,
          56.996216,
          59.1235,
          56.148838,
          50.979603,
          null,
          50.798138,
          51.525729,
          55.784634,
          47.096488,
          55.573439,
          56.83563,
          54.726185,
          55.834743,
          59.937054,
          55.85096,
          55.833813,
          53.86516,
          54.782241,
          57.14979,
          41.619535,
          55.920525,
          56.350395,
          43.25043,
          52.602722,
          55.098793,
          44.948237,
          55.098793,
          59.913265,
          59.913265,
          55.3633,
          45.029015,
          46.36476,
          55.573439,
          55.768,
          57.14979
         ],
         "legendgroup": "",
         "lon": [
          131.8852,
          34.341743,
          null,
          32.047268,
          47.25603,
          29.77652,
          38.13993,
          38.13993,
          47.25603,
          37.67214,
          38.988125,
          37.6586,
          61.386353,
          30.41471,
          37.881641,
          47.90019,
          30.270311,
          60.639294,
          37.899994,
          20.547588,
          34.345196,
          37.756973,
          47.90019,
          30.365017,
          37.553185,
          30.270311,
          20.547588,
          47.25603,
          37.6586,
          129.758642,
          82.95686,
          39.600132,
          30.365017,
          37.414753,
          45.932625,
          73.37687,
          37.64813,
          38.95408,
          37.753353,
          127.52683,
          82.93872,
          40.535133,
          38.436337,
          56.244885,
          37.66441,
          37.6586,
          33.519278,
          40.963436,
          38.95408,
          60.60932,
          37.304204,
          44.532333,
          37.756973,
          37.623688,
          84.96818,
          37.554268,
          38.98416,
          30.477071,
          127.52683,
          47.25603,
          60.578487,
          38.07089,
          39.781624,
          37.56381,
          45.139275,
          137.02255,
          39.71181,
          30.270311,
          39.885986,
          37.263103,
          47.50779,
          null,
          37.304204,
          37.6586,
          82.95686,
          37.593417,
          37.263103,
          37.420197,
          92.87679,
          50.14273,
          30.295506,
          37.822178,
          37.66441,
          48.282494,
          40.385628,
          92.879585,
          44.532333,
          39.005363,
          null,
          37.414753,
          73.403114,
          37.642014,
          37.6586,
          28.34161,
          82.93872,
          47.90019,
          65.5169,
          37.40911,
          38.07767,
          40.963436,
          40.385628,
          34.345196,
          37.899994,
          83.1105,
          30.29725,
          37.605785,
          39.636779,
          42.15615,
          37.899994,
          30.305073,
          37.40911,
          null,
          36.616695,
          37.6586,
          106.656364,
          38.774403,
          null,
          55.985294,
          131.88884,
          49.71987,
          37.605785,
          43.81661,
          30.295506,
          52.215885,
          58.976715,
          49.12403,
          37.593417,
          37.605785,
          60.20751,
          42.91319,
          33.236816,
          47.88379,
          37.66385,
          43.991047,
          94.44724,
          44.641926,
          30.305073,
          44.432205,
          null,
          37.881641,
          30.265001,
          40.972424,
          29.898277,
          37.6586,
          37.623688,
          37.420197,
          34.100318,
          55.182518,
          50.14273,
          20.547588,
          39.152096,
          104.29899,
          60.639294,
          44.65646,
          null,
          103.64897,
          61.389151,
          37.420197,
          37.304204,
          37.300095,
          82.955864,
          39.781624,
          37.554268,
          39.741459,
          49.12403,
          37.71863,
          131.88884,
          30.295506,
          60.60932,
          null,
          37.464904,
          39.24693,
          34.16745,
          82.92864,
          20.547588,
          37.71863,
          46.948612,
          null,
          30.351662,
          45.69178,
          60.63776,
          40.05863,
          39.191048,
          44.65646,
          30.265001,
          37.623688,
          37.616383,
          37.64813,
          30.265001,
          null,
          47.461723,
          91.44329,
          37.64813,
          30.351662,
          65.5169,
          39.60083,
          31.264816,
          92.83731,
          40.972424,
          45.69178,
          20.547588,
          38.98416,
          37.40911,
          104.29914,
          127.52683,
          38.324184,
          47.50779,
          135.06377,
          30.335318,
          36.98191,
          37.881641,
          78.028725,
          65.5169,
          null,
          44.432205,
          59.699657,
          45.005375,
          69.02614,
          34.345196,
          82.92864,
          37.353954,
          null,
          49.182186,
          49.71987,
          55.949226,
          50.14273,
          20.547588,
          56.036341,
          37.642014,
          45.69178,
          49.182186,
          37.420197,
          92.95175,
          34.100318,
          30.335318,
          39.86856,
          38.07089,
          37.80283,
          44.65646,
          45.98775,
          36.586514,
          40.963436,
          37.263103,
          37.6586,
          49.10336,
          37.57155,
          37.704258,
          72.62471,
          83.30979,
          30.270311,
          30.305073,
          37.50588,
          34.16745,
          37.50588,
          37.642014,
          47.50779,
          37.623688,
          82.87612,
          38.43214,
          49.96979,
          37.569813,
          60.578487,
          37.66441,
          65.5169,
          49.956127,
          60.639294,
          37.414753,
          37.881641,
          37.6586,
          32.047268,
          30.29725,
          61.400514,
          39.72794,
          30.335318,
          null,
          92.95175,
          37.50588,
          53.26724,
          132.8925,
          37.554268,
          33.35597,
          85.152276,
          37.616383,
          39.744728,
          37.49493,
          30.477071,
          135.05856,
          37.263103,
          56.203693,
          135.06377,
          37.64813,
          37.616383,
          45.04239,
          52.805084,
          37.464904,
          92.95175,
          30.477071,
          58.976715,
          37.128204,
          37.49493,
          30.29725,
          20.593227,
          37.80283,
          37.263103,
          47.50779,
          82.77301,
          60.624565,
          37.933254,
          null,
          37.822178,
          55.106773,
          37.464904,
          60.20751,
          45.98775,
          35.896866,
          36.13751,
          73.452835,
          30.365017,
          37.933254,
          null,
          30.270311,
          39.86856,
          39.600132,
          30.351662,
          38.6573,
          49.102573,
          39.60083,
          44.65646,
          47.50779,
          37.546913,
          49.10336,
          37.480793,
          41.973038,
          null,
          30.41471,
          51.811455,
          76.55,
          37.300095,
          30.35898,
          51.811455,
          52.805084,
          47.51716,
          78.028725,
          39.24693,
          104.29899,
          81.22516,
          39.859408,
          34.345196,
          null,
          44.432205,
          44.027339,
          82.87612,
          58.483307,
          30.990435,
          65.5169,
          37.569813,
          37.6586,
          45.23048,
          37.610504,
          30.35898,
          128.13425,
          34.30783,
          56.07229,
          30.3621,
          49.339176,
          104.29899,
          30.477071,
          37.414753,
          60.639294,
          84.96818,
          45.69178,
          20.547588,
          43.869076,
          43.791576,
          102.157977,
          30.351662,
          38.43214,
          37.66385,
          44.749881,
          37.756973,
          60.59965,
          131.9565,
          42.074406,
          83.781456,
          56.203693,
          43.791576,
          37.480793,
          92.95175,
          20.593227,
          135.06377,
          84.96818,
          31.091888,
          39.8737,
          37.49493,
          37.409763,
          37.263103,
          131.91133,
          56.244885,
          30.477071,
          58.483307,
          30.295506,
          37.610504,
          30.270311,
          39.24693,
          41.91703,
          40.535133,
          83.1105,
          30.41471,
          33.907887,
          31.264816,
          37.420197,
          34.331318,
          83.781456,
          30.254618,
          131.91133,
          47.25603,
          83.30979,
          82.87612,
          37.616383,
          132.8925,
          135.05856,
          37.776234,
          41.922314,
          49.12403,
          74.38489,
          37.899994,
          null,
          43.779297,
          34.341743,
          46.417515,
          34.345196,
          55.949226,
          37.80283,
          37.66441,
          34.100318,
          39.71181,
          37.263103,
          132.8925,
          37.593417,
          36.15696,
          31.264816,
          60.63776,
          37.569813,
          82.96405,
          65.5169,
          49.12403,
          30.365017,
          87.13379,
          null,
          37.554268,
          49.71987,
          41.58213,
          37.64813,
          30.305073,
          37.704258,
          34.100318,
          85.949615,
          92.95175,
          30.351662,
          30.477071,
          55.967782,
          30.265001,
          37.64813,
          37.569813,
          39.847458,
          40.972424,
          37.902187,
          44.190716,
          39.50527,
          null,
          42.01321,
          46.021707,
          37.642014,
          39.431361,
          37.464904,
          53.20678,
          55.949226,
          37.409763,
          30.270311,
          48.504845,
          49.10336,
          34.440205,
          56.036252,
          65.5169,
          48.348559,
          36.8603,
          30.512093,
          46.582146,
          39.600132,
          36.616695,
          34.100318,
          36.616695,
          30.29725,
          30.29725,
          86.07127,
          39.028008,
          48.06974,
          37.464904,
          51.993095,
          65.5169
         ],
         "marker": {
          "color": "fuchsia"
         },
         "mode": "markers",
         "name": "",
         "showlegend": false,
         "subplot": "map",
         "type": "scattermap"
        }
       ],
       "layout": {
        "height": 800,
        "legend": {
         "tracegroupgap": 0
        },
        "map": {
         "center": {
          "lat": 54.35294585,
          "lon": 49.44605687499999
         },
         "domain": {
          "x": [
           0,
           1
          ],
          "y": [
           0,
           1
          ]
         },
         "style": "open-street-map",
         "zoom": 3
        },
        "mapbox": {
         "center": {
          "lat": 54.35294585,
          "lon": 49.44605687499999
         },
         "zoom": 3
        },
        "margin": {
         "t": 60
        },
        "template": {
         "data": {
          "bar": [
           {
            "error_x": {
             "color": "#2a3f5f"
            },
            "error_y": {
             "color": "#2a3f5f"
            },
            "marker": {
             "line": {
              "color": "#E5ECF6",
              "width": 0.5
             },
             "pattern": {
              "fillmode": "overlay",
              "size": 10,
              "solidity": 0.2
             }
            },
            "type": "bar"
           }
          ],
          "barpolar": [
           {
            "marker": {
             "line": {
              "color": "#E5ECF6",
              "width": 0.5
             },
             "pattern": {
              "fillmode": "overlay",
              "size": 10,
              "solidity": 0.2
             }
            },
            "type": "barpolar"
           }
          ],
          "carpet": [
           {
            "aaxis": {
             "endlinecolor": "#2a3f5f",
             "gridcolor": "white",
             "linecolor": "white",
             "minorgridcolor": "white",
             "startlinecolor": "#2a3f5f"
            },
            "baxis": {
             "endlinecolor": "#2a3f5f",
             "gridcolor": "white",
             "linecolor": "white",
             "minorgridcolor": "white",
             "startlinecolor": "#2a3f5f"
            },
            "type": "carpet"
           }
          ],
          "choropleth": [
           {
            "colorbar": {
             "outlinewidth": 0,
             "ticks": ""
            },
            "type": "choropleth"
           }
          ],
          "contour": [
           {
            "colorbar": {
             "outlinewidth": 0,
             "ticks": ""
            },
            "colorscale": [
             [
              0,
              "#0d0887"
             ],
             [
              0.1111111111111111,
              "#46039f"
             ],
             [
              0.2222222222222222,
              "#7201a8"
             ],
             [
              0.3333333333333333,
              "#9c179e"
             ],
             [
              0.4444444444444444,
              "#bd3786"
             ],
             [
              0.5555555555555556,
              "#d8576b"
             ],
             [
              0.6666666666666666,
              "#ed7953"
             ],
             [
              0.7777777777777778,
              "#fb9f3a"
             ],
             [
              0.8888888888888888,
              "#fdca26"
             ],
             [
              1,
              "#f0f921"
             ]
            ],
            "type": "contour"
           }
          ],
          "contourcarpet": [
           {
            "colorbar": {
             "outlinewidth": 0,
             "ticks": ""
            },
            "type": "contourcarpet"
           }
          ],
          "heatmap": [
           {
            "colorbar": {
             "outlinewidth": 0,
             "ticks": ""
            },
            "colorscale": [
             [
              0,
              "#0d0887"
             ],
             [
              0.1111111111111111,
              "#46039f"
             ],
             [
              0.2222222222222222,
              "#7201a8"
             ],
             [
              0.3333333333333333,
              "#9c179e"
             ],
             [
              0.4444444444444444,
              "#bd3786"
             ],
             [
              0.5555555555555556,
              "#d8576b"
             ],
             [
              0.6666666666666666,
              "#ed7953"
             ],
             [
              0.7777777777777778,
              "#fb9f3a"
             ],
             [
              0.8888888888888888,
              "#fdca26"
             ],
             [
              1,
              "#f0f921"
             ]
            ],
            "type": "heatmap"
           }
          ],
          "heatmapgl": [
           {
            "colorbar": {
             "outlinewidth": 0,
             "ticks": ""
            },
            "colorscale": [
             [
              0,
              "#0d0887"
             ],
             [
              0.1111111111111111,
              "#46039f"
             ],
             [
              0.2222222222222222,
              "#7201a8"
             ],
             [
              0.3333333333333333,
              "#9c179e"
             ],
             [
              0.4444444444444444,
              "#bd3786"
             ],
             [
              0.5555555555555556,
              "#d8576b"
             ],
             [
              0.6666666666666666,
              "#ed7953"
             ],
             [
              0.7777777777777778,
              "#fb9f3a"
             ],
             [
              0.8888888888888888,
              "#fdca26"
             ],
             [
              1,
              "#f0f921"
             ]
            ],
            "type": "heatmapgl"
           }
          ],
          "histogram": [
           {
            "marker": {
             "pattern": {
              "fillmode": "overlay",
              "size": 10,
              "solidity": 0.2
             }
            },
            "type": "histogram"
           }
          ],
          "histogram2d": [
           {
            "colorbar": {
             "outlinewidth": 0,
             "ticks": ""
            },
            "colorscale": [
             [
              0,
              "#0d0887"
             ],
             [
              0.1111111111111111,
              "#46039f"
             ],
             [
              0.2222222222222222,
              "#7201a8"
             ],
             [
              0.3333333333333333,
              "#9c179e"
             ],
             [
              0.4444444444444444,
              "#bd3786"
             ],
             [
              0.5555555555555556,
              "#d8576b"
             ],
             [
              0.6666666666666666,
              "#ed7953"
             ],
             [
              0.7777777777777778,
              "#fb9f3a"
             ],
             [
              0.8888888888888888,
              "#fdca26"
             ],
             [
              1,
              "#f0f921"
             ]
            ],
            "type": "histogram2d"
           }
          ],
          "histogram2dcontour": [
           {
            "colorbar": {
             "outlinewidth": 0,
             "ticks": ""
            },
            "colorscale": [
             [
              0,
              "#0d0887"
             ],
             [
              0.1111111111111111,
              "#46039f"
             ],
             [
              0.2222222222222222,
              "#7201a8"
             ],
             [
              0.3333333333333333,
              "#9c179e"
             ],
             [
              0.4444444444444444,
              "#bd3786"
             ],
             [
              0.5555555555555556,
              "#d8576b"
             ],
             [
              0.6666666666666666,
              "#ed7953"
             ],
             [
              0.7777777777777778,
              "#fb9f3a"
             ],
             [
              0.8888888888888888,
              "#fdca26"
             ],
             [
              1,
              "#f0f921"
             ]
            ],
            "type": "histogram2dcontour"
           }
          ],
          "mesh3d": [
           {
            "colorbar": {
             "outlinewidth": 0,
             "ticks": ""
            },
            "type": "mesh3d"
           }
          ],
          "parcoords": [
           {
            "line": {
             "colorbar": {
              "outlinewidth": 0,
              "ticks": ""
             }
            },
            "type": "parcoords"
           }
          ],
          "pie": [
           {
            "automargin": true,
            "type": "pie"
           }
          ],
          "scatter": [
           {
            "fillpattern": {
             "fillmode": "overlay",
             "size": 10,
             "solidity": 0.2
            },
            "type": "scatter"
           }
          ],
          "scatter3d": [
           {
            "line": {
             "colorbar": {
              "outlinewidth": 0,
              "ticks": ""
             }
            },
            "marker": {
             "colorbar": {
              "outlinewidth": 0,
              "ticks": ""
             }
            },
            "type": "scatter3d"
           }
          ],
          "scattercarpet": [
           {
            "marker": {
             "colorbar": {
              "outlinewidth": 0,
              "ticks": ""
             }
            },
            "type": "scattercarpet"
           }
          ],
          "scattergeo": [
           {
            "marker": {
             "colorbar": {
              "outlinewidth": 0,
              "ticks": ""
             }
            },
            "type": "scattergeo"
           }
          ],
          "scattergl": [
           {
            "marker": {
             "colorbar": {
              "outlinewidth": 0,
              "ticks": ""
             }
            },
            "type": "scattergl"
           }
          ],
          "scattermapbox": [
           {
            "marker": {
             "colorbar": {
              "outlinewidth": 0,
              "ticks": ""
             }
            },
            "type": "scattermapbox"
           }
          ],
          "scatterpolar": [
           {
            "marker": {
             "colorbar": {
              "outlinewidth": 0,
              "ticks": ""
             }
            },
            "type": "scatterpolar"
           }
          ],
          "scatterpolargl": [
           {
            "marker": {
             "colorbar": {
              "outlinewidth": 0,
              "ticks": ""
             }
            },
            "type": "scatterpolargl"
           }
          ],
          "scatterternary": [
           {
            "marker": {
             "colorbar": {
              "outlinewidth": 0,
              "ticks": ""
             }
            },
            "type": "scatterternary"
           }
          ],
          "surface": [
           {
            "colorbar": {
             "outlinewidth": 0,
             "ticks": ""
            },
            "colorscale": [
             [
              0,
              "#0d0887"
             ],
             [
              0.1111111111111111,
              "#46039f"
             ],
             [
              0.2222222222222222,
              "#7201a8"
             ],
             [
              0.3333333333333333,
              "#9c179e"
             ],
             [
              0.4444444444444444,
              "#bd3786"
             ],
             [
              0.5555555555555556,
              "#d8576b"
             ],
             [
              0.6666666666666666,
              "#ed7953"
             ],
             [
              0.7777777777777778,
              "#fb9f3a"
             ],
             [
              0.8888888888888888,
              "#fdca26"
             ],
             [
              1,
              "#f0f921"
             ]
            ],
            "type": "surface"
           }
          ],
          "table": [
           {
            "cells": {
             "fill": {
              "color": "#EBF0F8"
             },
             "line": {
              "color": "white"
             }
            },
            "header": {
             "fill": {
              "color": "#C8D4E3"
             },
             "line": {
              "color": "white"
             }
            },
            "type": "table"
           }
          ]
         },
         "layout": {
          "annotationdefaults": {
           "arrowcolor": "#2a3f5f",
           "arrowhead": 0,
           "arrowwidth": 1
          },
          "autotypenumbers": "strict",
          "coloraxis": {
           "colorbar": {
            "outlinewidth": 0,
            "ticks": ""
           }
          },
          "colorscale": {
           "diverging": [
            [
             0,
             "#8e0152"
            ],
            [
             0.1,
             "#c51b7d"
            ],
            [
             0.2,
             "#de77ae"
            ],
            [
             0.3,
             "#f1b6da"
            ],
            [
             0.4,
             "#fde0ef"
            ],
            [
             0.5,
             "#f7f7f7"
            ],
            [
             0.6,
             "#e6f5d0"
            ],
            [
             0.7,
             "#b8e186"
            ],
            [
             0.8,
             "#7fbc41"
            ],
            [
             0.9,
             "#4d9221"
            ],
            [
             1,
             "#276419"
            ]
           ],
           "sequential": [
            [
             0,
             "#0d0887"
            ],
            [
             0.1111111111111111,
             "#46039f"
            ],
            [
             0.2222222222222222,
             "#7201a8"
            ],
            [
             0.3333333333333333,
             "#9c179e"
            ],
            [
             0.4444444444444444,
             "#bd3786"
            ],
            [
             0.5555555555555556,
             "#d8576b"
            ],
            [
             0.6666666666666666,
             "#ed7953"
            ],
            [
             0.7777777777777778,
             "#fb9f3a"
            ],
            [
             0.8888888888888888,
             "#fdca26"
            ],
            [
             1,
             "#f0f921"
            ]
           ],
           "sequentialminus": [
            [
             0,
             "#0d0887"
            ],
            [
             0.1111111111111111,
             "#46039f"
            ],
            [
             0.2222222222222222,
             "#7201a8"
            ],
            [
             0.3333333333333333,
             "#9c179e"
            ],
            [
             0.4444444444444444,
             "#bd3786"
            ],
            [
             0.5555555555555556,
             "#d8576b"
            ],
            [
             0.6666666666666666,
             "#ed7953"
            ],
            [
             0.7777777777777778,
             "#fb9f3a"
            ],
            [
             0.8888888888888888,
             "#fdca26"
            ],
            [
             1,
             "#f0f921"
            ]
           ]
          },
          "colorway": [
           "#636efa",
           "#EF553B",
           "#00cc96",
           "#ab63fa",
           "#FFA15A",
           "#19d3f3",
           "#FF6692",
           "#B6E880",
           "#FF97FF",
           "#FECB52"
          ],
          "font": {
           "color": "#2a3f5f"
          },
          "geo": {
           "bgcolor": "white",
           "lakecolor": "white",
           "landcolor": "#E5ECF6",
           "showlakes": true,
           "showland": true,
           "subunitcolor": "white"
          },
          "hoverlabel": {
           "align": "left"
          },
          "hovermode": "closest",
          "mapbox": {
           "style": "light"
          },
          "paper_bgcolor": "white",
          "plot_bgcolor": "#E5ECF6",
          "polar": {
           "angularaxis": {
            "gridcolor": "white",
            "linecolor": "white",
            "ticks": ""
           },
           "bgcolor": "#E5ECF6",
           "radialaxis": {
            "gridcolor": "white",
            "linecolor": "white",
            "ticks": ""
           }
          },
          "scene": {
           "xaxis": {
            "backgroundcolor": "#E5ECF6",
            "gridcolor": "white",
            "gridwidth": 2,
            "linecolor": "white",
            "showbackground": true,
            "ticks": "",
            "zerolinecolor": "white"
           },
           "yaxis": {
            "backgroundcolor": "#E5ECF6",
            "gridcolor": "white",
            "gridwidth": 2,
            "linecolor": "white",
            "showbackground": true,
            "ticks": "",
            "zerolinecolor": "white"
           },
           "zaxis": {
            "backgroundcolor": "#E5ECF6",
            "gridcolor": "white",
            "gridwidth": 2,
            "linecolor": "white",
            "showbackground": true,
            "ticks": "",
            "zerolinecolor": "white"
           }
          },
          "shapedefaults": {
           "line": {
            "color": "#2a3f5f"
           }
          },
          "ternary": {
           "aaxis": {
            "gridcolor": "white",
            "linecolor": "white",
            "ticks": ""
           },
           "baxis": {
            "gridcolor": "white",
            "linecolor": "white",
            "ticks": ""
           },
           "bgcolor": "#E5ECF6",
           "caxis": {
            "gridcolor": "white",
            "linecolor": "white",
            "ticks": ""
           }
          },
          "title": {
           "x": 0.05
          },
          "xaxis": {
           "automargin": true,
           "gridcolor": "white",
           "linecolor": "white",
           "ticks": "",
           "title": {
            "standoff": 15
           },
           "zerolinecolor": "white",
           "zerolinewidth": 2
          },
          "yaxis": {
           "automargin": true,
           "gridcolor": "white",
           "linecolor": "white",
           "ticks": "",
           "title": {
            "standoff": 15
           },
           "zerolinecolor": "white",
           "zerolinewidth": 2
          }
         }
        }
       }
      },
      "image/png": "[encoded data removed]",
      "text/html": [
       "<div>                            <div id=\"532abdb5-503a-4625-944b-4aaa61101ddf\" class=\"plotly-graph-div\" style=\"height:800px; width:100%;\"></div>            <script type=\"text/javascript\">                require([\"plotly\"], function(Plotly) {                    window.PLOTLYENV=window.PLOTLYENV || {};                                    if (document.getElementById(\"532abdb5-503a-4625-944b-4aaa61101ddf\")) {                    Plotly.newPlot(                        \"532abdb5-503a-4625-944b-4aaa61101ddf\",                        [{\"customdata\":[[4158824.0],[3430922.0],[3122079.0],[2034697.0],[1888452.0],[1839175.0],[1637249.0],[1435897.0],[1195850.0],[1122744.0],[1119869.0],[1044740.0],[989584.0],[750197.0],[731248.0],[716701.0],[706028.0],[698089.0],[692875.0],[676544.0],[619136.0],[614510.0],[608231.0],[565711.0],[565429.0],[496061.0],[494432.0],[490551.0],[484246.0],[467375.0],[461092.0],[444433.0],[443071.0],[440233.0],[437882.0],[432371.0],[428703.0],[423136.0],[417173.0],[415451.0],[412270.0],[396937.0],[390135.0],[380904.0],[366083.0],[350806.0],[343882.0],[338321.0],[331861.0],[319086.0],[318854.0],[308344.0],[304999.0],[303565.0],[290960.0],[286828.0],[281006.0],[276252.0],[272304.0],[260337.0],[252360.0],[251670.0],[249888.0],[245627.0],[245178.0],[242493.0],[238201.0],[232983.0],[222920.0],[220561.0],[216765.0],[209157.0],[200736.0],[200565.0],[198833.0],[189847.0],[187858.0],[185277.0],[178545.0],[177868.0],[172129.0],[166271.0],[165079.0],[160002.0],[157720.0],[156019.0],[154145.0],[151857.0],[151266.0],[149905.0],[148331.0],[146157.0],[144268.0],[143994.0],[142683.0],[138688.0],[138033.0],[137749.0],[137434.0],[135643.0],[135171.0],[130038.0],[127877.0],[126596.0],[126426.0],[124542.0],[124118.0],[123419.0],[123143.0],[120186.0],[118245.0],[117679.0],[115102.0],[111969.0],[108005.0],[107303.0],[107108.0],[106632.0],[100114.0],[98547.0],[95847.0],[95540.0],[93357.0],[92893.0],[91842.0],[91243.0],[90798.0],[89942.0],[89459.0],[87470.0],[87119.0],[86107.0],[85508.0],[85345.0],[84992.0],[81577.0],[81355.0],[80803.0],[80568.0],[80459.0],[78052.0],[76053.0],[75981.0],[75278.0],[74824.0],[73882.0],[73363.0],[72736.0],[72249.0],[69957.0],[69624.0],[67665.0],[65329.0],[64676.0],[64130.0],[63602.0],[63473.0],[63464.0],[63405.0],[63401.0],[62941.0],[62932.0],[62217.0],[62050.0],[61926.0],[61219.0],[60736.0],[59986.0],[59879.0],[57622.0],[56738.0],[56636.0],[56507.0],[56396.0],[56388.0],[56302.0],[56106.0],[56032.0],[55745.0],[55698.0],[55618.0],[54863.0],[54412.0],[54038.0],[52789.0],[52007.0],[51590.0],[51407.0],[51352.0],[51236.0],[51168.0],[51112.0],[51105.0],[50163.0],[48268.0],[46914.0],[46753.0],[46671.0],[45371.0],[45237.0],[44520.0],[44390.0],[44156.0],[43778.0],[42534.0],[41863.0],[41682.0],[41206.0],[41107.0],[40645.0],[40633.0],[40448.0],[40309.0],[39880.0],[39741.0],[39132.0],[39012.0],[38547.0],[38500.0],[38211.0],[38086.0],[37413.0],[37407.0],[37003.0],[36966.0],[36849.0],[36186.0],[36166.0],[36043.0],[35909.0],[35867.0],[35677.0],[35599.0],[35567.0],[35470.0],[35465.0],[35197.0],[34379.0],[34287.0],[33786.0],[33600.0],[33433.0],[32966.0],[32954.0],[32854.0],[32525.0],[32419.0],[31924.0],[31852.0],[31736.0],[31536.0],[31385.0],[30416.0],[29966.0],[29877.0],[29779.0],[29717.0],[29467.0],[29381.0],[29319.0],[29299.0],[29229.0],[29208.0],[29187.0],[28806.0],[28241.0],[28092.0],[27975.0],[27565.0],[26835.0],[26700.0],[26671.0],[26587.0],[26341.0],[26237.0],[26036.0],[25601.0],[25540.0],[25262.0],[25260.0],[25071.0],[24998.0],[24953.0],[24861.0],[24730.0],[24652.0],[24504.0],[24487.0],[24139.0],[23682.0],[23523.0],[23226.0],[23026.0],[22880.0],[22804.0],[22675.0],[22652.0],[22448.0],[21999.0],[21963.0],[21839.0],[21830.0],[21699.0],[21601.0],[21361.0],[21251.0],[20893.0],[20873.0],[20246.0],[20126.0],[19782.0],[19676.0],[19627.0],[19549.0],[19326.0],[19148.0],[19126.0],[19033.0],[19014.0],[18768.0],[18239.0],[18060.0],[17980.0],[17591.0],[17434.0],[17323.0],[16954.0],[16816.0],[16763.0],[16729.0],[16308.0],[16231.0],[16206.0],[16143.0],[16134.0],[16128.0],[16108.0],[15979.0],[15736.0],[15527.0],[15394.0],[15338.0],[15296.0],[14662.0],[14652.0],[14642.0],[14583.0],[14146.0],[14142.0],[14106.0],[14034.0],[14009.0],[13594.0],[13312.0],[13148.0],[13034.0],[12920.0],[12687.0],[12592.0],[12273.0],[12104.0],[12038.0],[11912.0],[11902.0],[11851.0],[11675.0],[11587.0],[11468.0],[11436.0],[11387.0],[11314.0],[11306.0],[11238.0],[10179.0],[10132.0],[10037.0],[10026.0],[9951.0],[9799.0],[9734.0],[9705.0],[9609.0],[9594.0],[9455.0],[9388.0],[9322.0],[9296.0],[9285.0],[9049.0],[8592.0],[8536.0],[8492.0],[8456.0],[8215.0],[8062.0],[8030.0],[7995.0],[7895.0],[7870.0],[7793.0],[7757.0],[7753.0],[7736.0],[7721.0],[7650.0],[7614.0],[7573.0],[7524.0],[7441.0],[7347.0],[7269.0],[7245.0],[7183.0],[7174.0],[7137.0],[7066.0],[7060.0],[6881.0],[6854.0],[6664.0],[6547.0],[6507.0],[6388.0],[6362.0],[6301.0],[6286.0],[6250.0],[6238.0],[6226.0],[6195.0],[6194.0],[6032.0],[5990.0],[5797.0],[5723.0],[5653.0],[5638.0],[5597.0],[5571.0],[5554.0],[5160.0],[4960.0],[4865.0],[4848.0],[4617.0],[4399.0],[4333.0],[4327.0],[4240.0],[4135.0],[4108.0],[4078.0],[4025.0],[3980.0],[3961.0],[3952.0],[3813.0],[3703.0],[3671.0],[3558.0],[3550.0],[3433.0],[3415.0],[3382.0],[3381.0],[3282.0],[3255.0],[3249.0],[3209.0],[3173.0],[3154.0],[3122.0],[3006.0],[2962.0],[2928.0],[2877.0],[2830.0],[2768.0],[2747.0],[2729.0],[2603.0],[2475.0],[2434.0],[2374.0],[2297.0],[2290.0],[2287.0],[2240.0],[2237.0],[2229.0],[2145.0],[2090.0],[2060.0],[2025.0],[1987.0],[1932.0],[1802.0],[1800.0],[1776.0],[1751.0]],\"hovertemplate\":\"\\u003cb\\u003e%{hovertext}\\u003c\\u002fb\\u003e\\u003cbr\\u003e\\u003cbr\\u003e\\u0428\\u0438\\u0440\\u043e\\u0442\\u0430=%{lat}\\u003cbr\\u003e\\u0414\\u043e\\u043b\\u0433\\u043e\\u0442\\u0430=%{lon}\\u003cbr\\u003e\\u0427\\u0438\\u0441\\u0442\\u0430\\u044f \\u043f\\u0440\\u0438\\u0431\\u044b\\u043b\\u044c \\u0441\\u0443\\u043c\\u043c\\u0430=%{customdata[0]}\\u003cextra\\u003e\\u003c\\u002fextra\\u003e\",\"hovertext\":[\"\\u0433 \\u0412\\u043b\\u0430\\u0434\\u0438\\u0432\\u043e\\u0441\\u0442\\u043e\\u043a\",\"\\u0433 \\u041f\\u0435\\u0442\\u0440\\u043e\\u0437\\u0430\\u0432\\u043e\\u0434\\u0441\\u043a\",null,\"\\u0433 \\u0421\\u043c\\u043e\\u043b\\u0435\\u043d\\u0441\\u043a\",\"\\u0433 \\u0427\\u0435\\u0431\\u043e\\u043a\\u0441\\u0430\\u0440\\u044b\",null,null,null,\"\\u0433 \\u0427\\u0435\\u0431\\u043e\\u043a\\u0441\\u0430\\u0440\\u044b\",null,null,null,\"\\u0433 \\u0427\\u0435\\u043b\\u044f\\u0431\\u0438\\u043d\\u0441\\u043a\",null,\"\\u0433 \\u0421\\u0442\\u0430\\u0440\\u044b\\u0439 \\u041e\\u0441\\u043a\\u043e\\u043b\",\"\\u0433 \\u0419\\u043e\\u0448\\u043a\\u0430\\u0440-\\u041e\\u043b\\u0430\",null,\"\\u0433 \\u0415\\u043a\\u0430\\u0442\\u0435\\u0440\\u0438\\u043d\\u0431\\u0443\\u0440\\u0433\",\"\\u0433 \\u0414\\u0437\\u0435\\u0440\\u0436\\u0438\\u043d\\u0441\\u043a\\u0438\\u0439\",\"\\u0433 \\u041a\\u0430\\u043b\\u0438\\u043d\\u0438\\u043d\\u0433\\u0440\\u0430\\u0434\",\"\\u0433 \\u0411\\u0440\\u044f\\u043d\\u0441\\u043a\",null,\"\\u0433 \\u0419\\u043e\\u0448\\u043a\\u0430\\u0440-\\u041e\\u043b\\u0430\",null,null,null,\"\\u0433 \\u041a\\u0430\\u043b\\u0438\\u043d\\u0438\\u043d\\u0433\\u0440\\u0430\\u0434\",\"\\u0433 \\u0427\\u0435\\u0431\\u043e\\u043a\\u0441\\u0430\\u0440\\u044b\",null,\"\\u0433 \\u042f\\u043a\\u0443\\u0442\\u0441\\u043a\",\"\\u0433 \\u041d\\u043e\\u0432\\u043e\\u0441\\u0438\\u0431\\u0438\\u0440\\u0441\\u043a\",\"\\u0433 \\u041b\\u0438\\u043f\\u0435\\u0446\\u043a\",null,null,\"\\u0433 \\u0421\\u0430\\u0440\\u0430\\u0442\\u043e\\u0432\",null,null,\"\\u0433 \\u041a\\u0440\\u0430\\u0441\\u043d\\u043e\\u0434\\u0430\\u0440\",\"\\u0433 \\u0414\\u043e\\u043c\\u043e\\u0434\\u0435\\u0434\\u043e\\u0432\\u043e\",\"\\u0433 \\u0411\\u043b\\u0430\\u0433\\u043e\\u0432\\u0435\\u0449\\u0435\\u043d\\u0441\\u043a\",\"\\u0433 \\u041d\\u043e\\u0432\\u043e\\u0441\\u0438\\u0431\\u0438\\u0440\\u0441\\u043a\",\"\\u0433 \\u0410\\u0440\\u0445\\u0430\\u043d\\u0433\\u0435\\u043b\\u044c\\u0441\\u043a\",\"\\u0433. \\u042d\\u043b\\u0435\\u043a\\u0442\\u0440\\u043e\\u0441\\u0442\\u0430\\u043b\\u044c\",\"\\u0433 \\u041f\\u0435\\u0440\\u043c\\u044c\",null,null,null,\"\\u0433 \\u041a\\u043e\\u0441\\u0442\\u0440\\u043e\\u043c\\u0430\",\"\\u0433 \\u041a\\u0440\\u0430\\u0441\\u043d\\u043e\\u0434\\u0430\\u0440\",\"\\u0433 \\u0415\\u043a\\u0430\\u0442\\u0435\\u0440\\u0438\\u043d\\u0431\\u0443\\u0440\\u0433\",\"\\u0433 \\u0410\\u043d\\u0430\\u043f\\u0430\",\"\\u0433 \\u0412\\u043e\\u043b\\u0433\\u043e\\u0433\\u0440\\u0430\\u0434\",null,null,\"\\u0433 \\u0422\\u043e\\u043c\\u0441\\u043a\",null,\"\\u0433 \\u041a\\u0440\\u0430\\u0441\\u043d\\u043e\\u0434\\u0430\\u0440\",null,\"\\u0433 \\u0411\\u043b\\u0430\\u0433\\u043e\\u0432\\u0435\\u0449\\u0435\\u043d\\u0441\\u043a\",\"\\u0433 \\u0427\\u0435\\u0431\\u043e\\u043a\\u0441\\u0430\\u0440\\u044b\",\"\\u0433 \\u0415\\u043a\\u0430\\u0442\\u0435\\u0440\\u0438\\u043d\\u0431\\u0443\\u0440\\u0433\",\"\\u0433 \\u0420\\u0430\\u043c\\u0435\\u043d\\u0441\\u043a\\u043e\\u0435\",\"\\u0433 \\u0421\\u043e\\u0447\\u0438\",null,\"\\u0433 \\u0421\\u0430\\u0440\\u0430\\u043d\\u0441\\u043a\",\"\\u0433 \\u041a\\u043e\\u043c\\u0441\\u043e\\u043c\\u043e\\u043b\\u044c\\u0441\\u043a-\\u043d\\u0430-\\u0410\\u043c\\u0443\\u0440\\u0435\",\"\\u0433 \\u0420\\u044f\\u0437\\u0430\\u043d\\u044c\",null,\"\\u0433 \\u0412\\u043e\\u043b\\u043e\\u0433\\u0434\\u0430\",null,\"\\u0413\\u041e\\u0420\\u041e\\u0414 \\u041c\\u0410\\u0425\\u0410\\u0427\\u041a\\u0410\\u041b\\u0410\",null,\"\\u0433 \\u0410\\u043d\\u0430\\u043f\\u0430\",null,\"\\u0433 \\u041d\\u043e\\u0432\\u043e\\u0441\\u0438\\u0431\\u0438\\u0440\\u0441\\u043a\",null,null,null,\"\\u0433 \\u041a\\u0440\\u0430\\u0441\\u043d\\u043e\\u044f\\u0440\\u0441\\u043a\",\"\\u0433 \\u0421\\u0430\\u043c\\u0430\\u0440\\u0430\",null,null,null,\"\\u0413\\u041e\\u0420\\u041e\\u0414 \\u0414\\u0415\\u0420\\u0411\\u0415\\u041d\\u0422\",\"\\u0433 \\u0412\\u043b\\u0430\\u0434\\u0438\\u043c\\u0438\\u0440\",\"\\u0433 \\u041a\\u0440\\u0430\\u0441\\u043d\\u043e\\u044f\\u0440\\u0441\\u043a\",\"\\u0433 \\u0412\\u043e\\u043b\\u0433\\u043e\\u0433\\u0440\\u0430\\u0434\",\"\\u0433 \\u041a\\u0440\\u0430\\u0441\\u043d\\u043e\\u0434\\u0430\\u0440\",\"\\u0433 \\u042d\\u043b\\u0438\\u0441\\u0442\\u0430\",null,\"\\u0433 \\u041e\\u043c\\u0441\\u043a\",null,null,\"\\u0433 \\u041f\\u0441\\u043a\\u043e\\u0432\",\"\\u0433 \\u041d\\u043e\\u0432\\u043e\\u0441\\u0438\\u0431\\u0438\\u0440\\u0441\\u043a\",\"\\u0433 \\u0419\\u043e\\u0448\\u043a\\u0430\\u0440-\\u041e\\u043b\\u0430\",\"\\u0433 \\u0422\\u044e\\u043c\\u0435\\u043d\\u044c\",\"\\u0433 \\u0414\\u043e\\u043b\\u0433\\u043e\\u043f\\u0440\\u0443\\u0434\\u043d\\u044b\\u0439\",\"\\u0433 \\u0413\\u0435\\u043b\\u0435\\u043d\\u0434\\u0436\\u0438\\u043a\",\"\\u0433 \\u041a\\u043e\\u0441\\u0442\\u0440\\u043e\\u043c\\u0430\",\"\\u0433 \\u0412\\u043b\\u0430\\u0434\\u0438\\u043c\\u0438\\u0440\",\"\\u0433 \\u0411\\u0440\\u044f\\u043d\\u0441\\u043a\",\"\\u0433 \\u0414\\u0437\\u0435\\u0440\\u0436\\u0438\\u043d\\u0441\\u043a\\u0438\\u0439\",\"\\u0433 \\u0422\\u043e\\u043c\\u0441\\u043a\",null,null,\"\\u0433 \\u0420\\u043e\\u0441\\u0442\\u043e\\u0432-\\u043d\\u0430-\\u0414\\u043e\\u043d\\u0443\",\"\\u0433 \\u0412\\u0438\\u0447\\u0443\\u0433\\u0430\",\"\\u0433 \\u0414\\u0437\\u0435\\u0440\\u0436\\u0438\\u043d\\u0441\\u043a\\u0438\\u0439\",null,\"\\u0433 \\u0425\\u0438\\u043c\\u043a\\u0438\",null,\"\\u0433 \\u041e\\u0431\\u043d\\u0438\\u043d\\u0441\\u043a\",null,\"\\u0433 \\u0421\\u0435\\u0432\\u0435\\u0440\\u043e\\u0431\\u0430\\u0439\\u043a\\u0430\\u043b\\u044c\\u0441\\u043a\",null,\"\\u0433 \\u041a\\u0443\\u0440\\u0441\\u043a\",\"\\u0433 \\u0423\\u0444\\u0430\",\"\\u0433 \\u0412\\u043b\\u0430\\u0434\\u0438\\u0432\\u043e\\u0441\\u0442\\u043e\\u043a\",\"\\u0433 \\u041a\\u0438\\u0440\\u043e\\u0432\",null,null,null,\"\\u0433 \\u041c\\u043e\\u0436\\u0433\\u0430\",\"\\u0433 \\u041c\\u0430\\u0433\\u043d\\u0438\\u0442\\u043e\\u0433\\u043e\\u0440\\u0441\\u043a\",\"\\u0433 \\u041a\\u0430\\u0437\\u0430\\u043d\\u044c\",null,null,\"\\u0433 \\u0412\\u0435\\u0440\\u0445\\u043d\\u0438\\u0439 \\u0422\\u0430\\u0433\\u0438\\u043b\",\"\\u0433 \\u041d\\u0430\\u043b\\u044c\\u0447\\u0438\\u043a\",null,null,null,\"\\u0433 \\u041d\\u0438\\u0436\\u043d\\u0438\\u0439 \\u041d\\u043e\\u0432\\u0433\\u043e\\u0440\\u043e\\u0434\",\"\\u0433 \\u041a\\u044b\\u0437\\u044b\\u043b\",\"\\u0433 \\u041c\\u043e\\u0437\\u0434\\u043e\\u043a\",null,\"\\u0433 \\u0412\\u043e\\u043b\\u0433\\u043e\\u0433\\u0440\\u0430\\u0434\",\"\\u0433 \\u041a\\u0430\\u043b\\u0438\\u043d\\u0438\\u043d\\u0433\\u0440\\u0430\\u0434\",\"\\u0433 \\u0421\\u0442\\u0430\\u0440\\u044b\\u0439 \\u041e\\u0441\\u043a\\u043e\\u043b\",null,\"\\u0433 \\u0418\\u0432\\u0430\\u043d\\u043e\\u0432\\u043e\",\"\\u0433 \\u041f\\u0435\\u0442\\u0435\\u0440\\u0433\\u043e\\u0444\",null,null,null,\"\\u0433 \\u0421\\u0438\\u043c\\u0444\\u0435\\u0440\\u043e\\u043f\\u043e\\u043b\\u044c\",\"\\u0433 \\u041e\\u0440\\u0435\\u043d\\u0431\\u0443\\u0440\\u0433\",\"\\u0433 \\u0421\\u0430\\u043c\\u0430\\u0440\\u0430\",\"\\u0433 \\u041a\\u0430\\u043b\\u0438\\u043d\\u0438\\u043d\\u0433\\u0440\\u0430\\u0434\",\"\\u0433 \\u0412\\u043e\\u0440\\u043e\\u043d\\u0435\\u0436\",\"\\u0433 \\u0418\\u0440\\u043a\\u0443\\u0442\\u0441\\u043a\",\"\\u0433 \\u0415\\u043a\\u0430\\u0442\\u0435\\u0440\\u0438\\u043d\\u0431\\u0443\\u0440\\u0433\",\"\\u0433 \\u0412\\u043b\\u0430\\u0434\\u0438\\u043a\\u0430\\u0432\\u043a\\u0430\\u0437\",null,null,\"\\u0433 \\u0427\\u0435\\u043b\\u044f\\u0431\\u0438\\u043d\\u0441\\u043a\",null,\"\\u0433 \\u0410\\u043d\\u0430\\u043f\\u0430\",\"\\u0433 \\u041a\\u0440\\u0430\\u0441\\u043d\\u043e\\u0433\\u043e\\u0440\\u0441\\u043a\",\"\\u0433 \\u041d\\u043e\\u0432\\u043e\\u0441\\u0438\\u0431\\u0438\\u0440\\u0441\\u043a\",\"\\u0433 \\u0421\\u043e\\u0447\\u0438\",null,\"\\u0433 \\u0420\\u044b\\u0431\\u043d\\u043e\\u0435\",\"\\u0433 \\u041a\\u0430\\u0437\\u0430\\u043d\\u044c\",\"\\u0433 \\u041c\\u044b\\u0442\\u0438\\u0449\\u0438\",\"\\u0433 \\u0410\\u043d\\u0430\\u0434\\u044b\\u0440\\u044c\",null,\"\\u0433 \\u0415\\u043a\\u0430\\u0442\\u0435\\u0440\\u0438\\u043d\\u0431\\u0443\\u0440\\u0433\",null,null,\"\\u0433 \\u0412\\u043e\\u0440\\u043e\\u043d\\u0435\\u0436\",\"\\u0433 \\u042f\\u043b\\u0442\\u0430\",\"\\u0433 \\u041d\\u043e\\u0432\\u043e\\u0441\\u0438\\u0431\\u0438\\u0440\\u0441\\u043a\",\"\\u0433 \\u041a\\u0430\\u043b\\u0438\\u043d\\u0438\\u043d\\u0433\\u0440\\u0430\\u0434\",\"\\u0433 \\u041c\\u044b\\u0442\\u0438\\u0449\\u0438\",null,\"\\u0433 \\u0412\\u0441\\u0435\\u0432\\u043e\\u043b\\u043e\\u0436\\u0441\\u043a\",null,null,\"\\u0433 \\u0415\\u043a\\u0430\\u0442\\u0435\\u0440\\u0438\\u043d\\u0431\\u0443\\u0440\\u0433\",null,\"\\u0433 \\u0412\\u043e\\u0440\\u043e\\u043d\\u0435\\u0436\",\"\\u0433 \\u0412\\u043b\\u0430\\u0434\\u0438\\u043a\\u0430\\u0432\\u043a\\u0430\\u0437\",null,null,null,null,null,null,\"\\u0433 \\u0426\\u0438\\u0432\\u0438\\u043b\\u044c\\u0441\\u043a\",\"\\u0433 \\u0410\\u0431\\u0430\\u043a\\u0430\\u043d\",null,null,\"\\u0433 \\u0422\\u044e\\u043c\\u0435\\u043d\\u044c\",\"\\u0433 \\u041b\\u0438\\u043f\\u0435\\u0446\\u043a\",null,\"\\u0433 \\u041a\\u0440\\u0430\\u0441\\u043d\\u043e\\u044f\\u0440\\u0441\\u043a\",\"\\u0433 \\u0418\\u0432\\u0430\\u043d\\u043e\\u0432\\u043e\",\"\\u0433 \\u0413\\u0440\\u043e\\u0437\\u043d\\u044b\\u0439\",\"\\u0433 \\u041a\\u0430\\u043b\\u0438\\u043d\\u0438\\u043d\\u0433\\u0440\\u0430\\u0434\",\"\\u0433 \\u041a\\u0440\\u0430\\u0441\\u043d\\u043e\\u0434\\u0430\\u0440\",\"\\u0433 \\u0425\\u0438\\u043c\\u043a\\u0438\",\"\\u0433 \\u0418\\u0440\\u043a\\u0443\\u0442\\u0441\\u043a\",\"\\u0433 \\u0411\\u043b\\u0430\\u0433\\u043e\\u0432\\u0435\\u0449\\u0435\\u043d\\u0441\\u043a\",\"\\u0433 \\u0423\\u0433\\u043b\\u0438\\u0447\",\"\\u0433 \\u041c\\u0430\\u0445\\u0430\\u0447\\u043a\\u0430\\u043b\\u0430\",\"\\u0433 \\u0425\\u0430\\u0431\\u0430\\u0440\\u043e\\u0432\\u0441\\u043a\",null,\"\\u0433 \\u0421\\u043e\\u043b\\u043d\\u0435\\u0447\\u043d\\u043e\\u0433\\u043e\\u0440\\u0441\\u043a\",\"\\u0433 \\u0421\\u0442\\u0430\\u0440\\u044b\\u0439 \\u041e\\u0441\\u043a\\u043e\\u043b\",\"\\u0433 \\u0422\\u0430\\u0442\\u0430\\u0440\\u0441\\u043a\",\"\\u0433 \\u0422\\u044e\\u043c\\u0435\\u043d\\u044c\",\"\\u0433 \\u042f\\u043a\\u0443\\u0442\\u0441\\u043a\",\"\\u0433 \\u0412\\u043e\\u043b\\u0433\\u043e\\u0433\\u0440\\u0430\\u0434\",\"\\u0433 \\u0417\\u043b\\u0430\\u0442\\u043e\\u0443\\u0441\\u0442\",\"\\u0433 \\u041f\\u0435\\u043d\\u0437\\u0430\",\"\\u0433 \\u0425\\u0430\\u043d\\u0442\\u044b-\\u041c\\u0430\\u043d\\u0441\\u0438\\u0439\\u0441\\u043a\",\"\\u0433 \\u0411\\u0440\\u044f\\u043d\\u0441\\u043a\",\"\\u0433 \\u041d\\u043e\\u0432\\u043e\\u0441\\u0438\\u0431\\u0438\\u0440\\u0441\\u043a\",\"\\u0433 \\u041a\\u0430\\u0448\\u0438\\u043d\",null,\"\\u0433 \\u041a\\u0430\\u0437\\u0430\\u043d\\u044c\",\"\\u0433 \\u041a\\u0438\\u0440\\u043e\\u0432\",\"\\u0433 \\u0423\\u0444\\u0430\",\"\\u0433 \\u0421\\u0430\\u043c\\u0430\\u0440\\u0430\",\"\\u0433 \\u041a\\u0430\\u043b\\u0438\\u043d\\u0438\\u043d\\u0433\\u0440\\u0430\\u0434\",\"\\u0433 \\u041a\\u0443\\u043c\\u0435\\u0440\\u0442\\u0430\\u0443\",null,\"\\u0433 \\u0413\\u0440\\u043e\\u0437\\u043d\\u044b\\u0439\",null,null,\"\\u0433 \\u041a\\u0440\\u0430\\u0441\\u043d\\u043e\\u044f\\u0440\\u0441\\u043a\",\"\\u0433 \\u0421\\u0438\\u043c\\u0444\\u0435\\u0440\\u043e\\u043f\\u043e\\u043b\\u044c\",null,\"\\u0433 \\u042f\\u0440\\u043e\\u0441\\u043b\\u0430\\u0432\\u043b\\u044c\",\"\\u0433 \\u0416\\u0443\\u043a\\u043e\\u0432\\u0441\\u043a\\u0438\\u0439\",null,\"\\u0433 \\u0412\\u043b\\u0430\\u0434\\u0438\\u043a\\u0430\\u0432\\u043a\\u0430\\u0437\",\"\\u0433 \\u0421\\u0430\\u0440\\u0430\\u0442\\u043e\\u0432\",\"\\u0433 \\u0411\\u0435\\u043b\\u0433\\u043e\\u0440\\u043e\\u0434\",null,null,null,null,null,null,\"\\u0433 \\u041d\\u0435\\u0444\\u0442\\u0435\\u044e\\u0433\\u0430\\u043d\\u0441\\u043a\",\"\\u0433 \\u0411\\u0435\\u0440\\u0434\\u0441\\u043a\",null,null,null,\"\\u0433 \\u042f\\u043b\\u0442\\u0430\",null,null,\"\\u0433 \\u041c\\u0430\\u0445\\u0430\\u0447\\u043a\\u0430\\u043b\\u0430\",null,\"\\u0433 \\u041d\\u043e\\u0432\\u043e\\u0441\\u0438\\u0431\\u0438\\u0440\\u0441\\u043a\",\"\\u0433 \\u0427\\u0435\\u0440\\u043d\\u043e\\u0433\\u043e\\u043b\\u043e\\u0432\\u043a\\u0430\",null,null,\"\\u0433 \\u0415\\u043a\\u0430\\u0442\\u0435\\u0440\\u0438\\u043d\\u0431\\u0443\\u0440\\u0433\",null,\"\\u0433 \\u0422\\u044e\\u043c\\u0435\\u043d\\u044c\",null,\"\\u0433 \\u0415\\u043a\\u0430\\u0442\\u0435\\u0440\\u0438\\u043d\\u0431\\u0443\\u0440\\u0433\",null,\"\\u0433 \\u0421\\u0442\\u0430\\u0440\\u044b\\u0439 \\u041e\\u0441\\u043a\\u043e\\u043b\",null,\"\\u0433 \\u0421\\u043c\\u043e\\u043b\\u0435\\u043d\\u0441\\u043a\",null,\"\\u0433 \\u0427\\u0435\\u043b\\u044f\\u0431\\u0438\\u043d\\u0441\\u043a\",\"\\u0433 \\u0420\\u043e\\u0441\\u0442\\u043e\\u0432-\\u043d\\u0430-\\u0414\\u043e\\u043d\\u0443\",null,\"\\u0433 \\u041d\\u0438\\u0436\\u043d\\u0438\\u0439 \\u041d\\u043e\\u0432\\u0433\\u043e\\u0440\\u043e\\u0434\",\"\\u0433 \\u041a\\u0440\\u0430\\u0441\\u043d\\u043e\\u044f\\u0440\\u0441\\u043a\",null,\"\\u0433 \\u0427\\u0430\\u0439\\u043a\\u043e\\u0432\\u0441\\u043a\\u0438\\u0439\",null,null,\"\\u0433 \\u0421\\u0430\\u043a\\u0438\",\"\\u0433 \\u0411\\u0435\\u043b\\u043e\\u043a\\u0443\\u0440\\u0438\\u0445\\u0430\",null,\"\\u0433 \\u0411\\u0430\\u0442\\u0430\\u0439\\u0441\\u043a\",null,null,\"\\u0433 \\u0425\\u0430\\u0431\\u0430\\u0440\\u043e\\u0432\\u0441\\u043a\",\"\\u0433 \\u0417\\u0432\\u0435\\u043d\\u0438\\u0433\\u043e\\u0440\\u043e\\u0434\",\"\\u0433 \\u041f\\u0435\\u0440\\u043c\\u044c\",\"\\u0433 \\u0425\\u0430\\u0431\\u0430\\u0440\\u043e\\u0432\\u0441\\u043a\",null,null,null,\"\\u0433 \\u041b\\u0435\\u043d\\u0438\\u043d\\u043e\\u0433\\u043e\\u0440\\u0441\\u043a\",\"\\u0433 \\u0422\\u0440\\u043e\\u0438\\u0446\\u043a\",\"\\u0433 \\u041a\\u0440\\u0430\\u0441\\u043d\\u043e\\u044f\\u0440\\u0441\\u043a\",null,\"\\u0433 \\u041c\\u0430\\u0433\\u043d\\u0438\\u0442\\u043e\\u0433\\u043e\\u0440\\u0441\\u043a\",\"\\u0433 \\u0428\\u0435\\u0431\\u0435\\u043a\\u0438\\u043d\\u043e\",null,null,\"\\u0433 \\u0421\\u0432\\u0435\\u0442\\u043b\\u043e\\u0433\\u043e\\u0440\\u0441\\u043a\",null,null,\"\\u0433 \\u041c\\u0430\\u0445\\u0430\\u0447\\u043a\\u0430\\u043b\\u0430\",null,\"\\u0433 \\u0415\\u043a\\u0430\\u0442\\u0435\\u0440\\u0438\\u043d\\u0431\\u0443\\u0440\\u0433\",\"\\u0433 \\u0411\\u0430\\u043b\\u0430\\u0448\\u0438\\u0445\\u0430\",null,null,null,\"\\u0433 \\u0422\\u0440\\u043e\\u0438\\u0446\\u043a\",\"\\u0433 \\u041d\\u043e\\u0432\\u043e\\u0443\\u0440\\u0430\\u043b\\u044c\\u0441\\u043a\",\"\\u0433 \\u0421\\u0430\\u0440\\u0430\\u0442\\u043e\\u0432\",\"\\u0433 \\u0422\\u0432\\u0435\\u0440\\u044c\",\"\\u0433 \\u041e\\u0440\\u0451\\u043b\",\"\\u0433 \\u041e\\u043c\\u0441\\u043a\",null,\"\\u0433 \\u0411\\u0430\\u043b\\u0430\\u0448\\u0438\\u0445\\u0430\",\"\\u0433 \\u041e\\u043c\\u0441\\u043a\",null,\"\\u0433 \\u042f\\u0440\\u043e\\u0441\\u043b\\u0430\\u0432\\u043b\\u044c\",\"\\u0433 \\u041b\\u0438\\u043f\\u0435\\u0446\\u043a\",null,null,\"\\u0433 \\u041a\\u0430\\u0437\\u0430\\u043d\\u044c\",\"\\u0433 \\u041b\\u0438\\u043f\\u0435\\u0446\\u043a\",\"\\u0433 \\u0412\\u043b\\u0430\\u0434\\u0438\\u043a\\u0430\\u0432\\u043a\\u0430\\u0437\",\"\\u0433 \\u041c\\u0430\\u0445\\u0430\\u0447\\u043a\\u0430\\u043b\\u0430\",\"\\u0433 \\u041f\\u043e\\u0434\\u043e\\u043b\\u044c\\u0441\\u043a\",\"\\u0433 \\u041a\\u0430\\u0437\\u0430\\u043d\\u044c\",null,\"\\u0433 \\u041a\\u0430\\u0440\\u0430\\u0447\\u0430\\u0435\\u0432\\u0441\\u043a\",\"\\u0433 \\u0421\\u0430\\u0440\\u0430\\u043d\\u0441\\u043a\",null,null,\"\\u0433 \\u041d\\u0438\\u0436\\u043d\\u0435\\u0432\\u0430\\u0440\\u0442\\u043e\\u0432\\u0441\\u043a\",\"\\u0433 \\u041a\\u0440\\u0430\\u0441\\u043d\\u043e\\u0433\\u043e\\u0440\\u0441\\u043a\",null,\"\\u0433 \\u041d\\u0438\\u0436\\u043d\\u0435\\u043a\\u0430\\u043c\\u0441\\u043a\",null,\"\\u0433 \\u041c\\u0430\\u0445\\u0430\\u0447\\u043a\\u0430\\u043b\\u0430\",\"\\u0433 \\u041a\\u0430\\u0440\\u0430\\u0441\\u0443\\u043a\",\"\\u0433 \\u0412\\u043e\\u0440\\u043e\\u043d\\u0435\\u0436\",\"\\u0433 \\u0418\\u0440\\u043a\\u0443\\u0442\\u0441\\u043a\",\"\\u0433 \\u0417\\u043c\\u0435\\u0438\\u043d\\u043e\\u0433\\u043e\\u0440\\u0441\\u043a\",\"\\u0433 \\u042f\\u0440\\u043e\\u0441\\u043b\\u0430\\u0432\\u043b\\u044c\",\"\\u0433 \\u0411\\u0440\\u044f\\u043d\\u0441\\u043a\",null,\"\\u0433 \\u0412\\u043e\\u043b\\u0433\\u043e\\u0433\\u0440\\u0430\\u0434\",\"\\u0433 \\u041d\\u0438\\u0436\\u043d\\u0438\\u0439 \\u041d\\u043e\\u0432\\u0433\\u043e\\u0440\\u043e\\u0434\",\"\\u0433 \\u041d\\u043e\\u0432\\u043e\\u0441\\u0438\\u0431\\u0438\\u0440\\u0441\\u043a\",\"\\u0433 \\u041e\\u0440\\u0441\\u043a\",\"\\u0433 \\u041e\\u0442\\u0440\\u0430\\u0434\\u043d\\u043e\\u0435\",\"\\u0433 \\u0422\\u044e\\u043c\\u0435\\u043d\\u044c\",null,null,\"\\u0433 \\u0421\\u0430\\u0440\\u0430\\u043d\\u0441\\u043a\",null,null,\"\\u0433 \\u0428\\u0438\\u043c\\u0430\\u043d\\u043e\\u0432\\u0441\\u043a\",\"\\u0433 \\u0411\\u0435\\u043b\\u043e\\u043c\\u043e\\u0440\\u0441\\u043a\",\"\\u0433 \\u0423\\u0444\\u0430\",null,\"\\u0433 \\u0422\\u043e\\u043b\\u044c\\u044f\\u0442\\u0442\\u0438\",\"\\u0433 \\u0418\\u0440\\u043a\\u0443\\u0442\\u0441\\u043a\",null,null,\"\\u0433 \\u0415\\u043a\\u0430\\u0442\\u0435\\u0440\\u0438\\u043d\\u0431\\u0443\\u0440\\u0433\",\"\\u0433 \\u0422\\u043e\\u043c\\u0441\\u043a\",\"\\u0433 \\u0413\\u0440\\u043e\\u0437\\u043d\\u044b\\u0439\",\"\\u0433 \\u041a\\u0430\\u043b\\u0438\\u043d\\u0438\\u043d\\u0433\\u0440\\u0430\\u0434\",\"\\u0433 \\u041d\\u0438\\u0436\\u043d\\u0438\\u0439 \\u041d\\u043e\\u0432\\u0433\\u043e\\u0440\\u043e\\u0434\",null,\"\\u0433 \\u0421\\u0430\\u044f\\u043d\\u0441\\u043a\",null,null,null,null,null,\"\\u0433 \\u0415\\u043a\\u0430\\u0442\\u0435\\u0440\\u0438\\u043d\\u0431\\u0443\\u0440\\u0433\",null,null,\"\\u0433 \\u0411\\u0430\\u0440\\u043d\\u0430\\u0443\\u043b\",\"\\u0433 \\u041f\\u0435\\u0440\\u043c\\u044c\",null,null,\"\\u0433 \\u041a\\u0440\\u0430\\u0441\\u043d\\u043e\\u044f\\u0440\\u0441\\u043a\",null,\"\\u0433 \\u0425\\u0430\\u0431\\u0430\\u0440\\u043e\\u0432\\u0441\\u043a\",\"\\u0433 \\u0422\\u043e\\u043c\\u0441\\u043a\",\"\\u0433 \\u0414\\u0435\\u043c\\u0438\\u0434\\u043e\\u0432\",\"\\u0433 \\u042f\\u0440\\u043e\\u0441\\u043b\\u0430\\u0432\\u043b\\u044c\",null,null,null,\"\\u0433 \\u0412\\u043b\\u0430\\u0434\\u0438\\u0432\\u043e\\u0441\\u0442\\u043e\\u043a\",\"\\u0433 \\u041f\\u0435\\u0440\\u043c\\u044c\",null,\"\\u0433 \\u041e\\u0440\\u0441\\u043a\",null,\"\\u0433 \\u0422\\u0443\\u043b\\u0430\",null,\"\\u0433 \\u0412\\u043e\\u0440\\u043e\\u043d\\u0435\\u0436\",\"\\u0433 \\u0421\\u0430\\u0441\\u043e\\u0432\\u043e\",\"\\u0433 \\u0410\\u0440\\u0445\\u0430\\u043d\\u0433\\u0435\\u043b\\u044c\\u0441\\u043a\",\"\\u0433 \\u041d\\u043e\\u0432\\u043e\\u0441\\u0438\\u0431\\u0438\\u0440\\u0441\\u043a\",null,\"\\u0433 \\u0411\\u043e\\u0440\\u043e\\u0432\\u0438\\u0447\\u0438\",null,null,\"\\u0433 \\u0417\\u0443\\u0431\\u0446\\u043e\\u0432\",\"\\u0433 \\u0411\\u0430\\u0440\\u043d\\u0430\\u0443\\u043b\",null,\"\\u0433 \\u0412\\u043b\\u0430\\u0434\\u0438\\u0432\\u043e\\u0441\\u0442\\u043e\\u043a\",\"\\u0433 \\u0427\\u0435\\u0431\\u043e\\u043a\\u0441\\u0430\\u0440\\u044b\",\"\\u0433 \\u0418\\u0441\\u043a\\u0438\\u0442\\u0438\\u043c\",\"\\u0433 \\u041d\\u043e\\u0432\\u043e\\u0441\\u0438\\u0431\\u0438\\u0440\\u0441\\u043a\",null,\"\\u0433 \\u041d\\u0430\\u0445\\u043e\\u0434\\u043a\\u0430\",\"\\u0433 \\u0425\\u0430\\u0431\\u0430\\u0440\\u043e\\u0432\\u0441\\u043a\",null,\"\\u0433 \\u0421\\u0442\\u0430\\u0432\\u0440\\u043e\\u043f\\u043e\\u043b\\u044c\",\"\\u0433 \\u041a\\u0430\\u0437\\u0430\\u043d\\u044c\",null,null,null,\"\\u0433 \\u0420\\u0442\\u0438\\u0449\\u0435\\u0432\\u043e\",\"\\u0433 \\u041f\\u0435\\u0442\\u0440\\u043e\\u0437\\u0430\\u0432\\u043e\\u0434\\u0441\\u043a\",\"\\u0433 \\u0428\\u0443\\u043c\\u0435\\u0440\\u043b\\u044f\",\"\\u0433 \\u0411\\u0440\\u044f\\u043d\\u0441\\u043a\",\"\\u0433 \\u0423\\u0444\\u0430\",null,null,\"\\u0433 \\u0421\\u0438\\u043c\\u0444\\u0435\\u0440\\u043e\\u043f\\u043e\\u043b\\u044c\",\"\\u0433 \\u0420\\u044f\\u0437\\u0430\\u043d\\u044c\",\"\\u0433 \\u0417\\u0432\\u0435\\u043d\\u0438\\u0433\\u043e\\u0440\\u043e\\u0434\",null,null,\"\\u0433 \\u041a\\u0443\\u0440\\u0441\\u043a\",\"\\u0433 \\u0412\\u0435\\u043b\\u0438\\u043a\\u0438\\u0439 \\u041d\\u043e\\u0432\\u0433\\u043e\\u0440\\u043e\\u0434\",\"\\u0433 \\u0415\\u043a\\u0430\\u0442\\u0435\\u0440\\u0438\\u043d\\u0431\\u0443\\u0440\\u0433\",null,\"\\u0433 \\u041d\\u043e\\u0432\\u043e\\u0441\\u0438\\u0431\\u0438\\u0440\\u0441\\u043a\",\"\\u0433 \\u0422\\u044e\\u043c\\u0435\\u043d\\u044c\",\"\\u0433 \\u041a\\u0430\\u0437\\u0430\\u043d\\u044c\",null,\"\\u0433 \\u041d\\u043e\\u0432\\u043e\\u043a\\u0443\\u0437\\u043d\\u0435\\u0446\\u043a\",null,null,\"\\u0433 \\u041a\\u0438\\u0440\\u043e\\u0432\",null,null,null,null,\"\\u0433 \\u0421\\u0438\\u043c\\u0444\\u0435\\u0440\\u043e\\u043f\\u043e\\u043b\\u044c\",\"\\u0433 \\u0413\\u043e\\u0440\\u043d\\u043e-\\u0410\\u043b\\u0442\\u0430\\u0439\\u0441\\u043a\",\"\\u0433 \\u041a\\u0440\\u0430\\u0441\\u043d\\u043e\\u044f\\u0440\\u0441\\u043a\",null,null,\"\\u0433 \\u0423\\u0444\\u0430\",null,null,null,\"\\u0433 \\u0421\\u0435\\u0432\\u0435\\u0440\\u043e\\u0434\\u0432\\u0438\\u043d\\u0441\\u043a\",\"\\u0433 \\u0418\\u0432\\u0430\\u043d\\u043e\\u0432\\u043e\",\"\\u0433 \\u0427\\u0435\\u0440\\u0435\\u043f\\u043e\\u0432\\u0435\\u0446\",\"\\u0433 \\u041d\\u0438\\u0436\\u043d\\u0438\\u0439 \\u041d\\u043e\\u0432\\u0433\\u043e\\u0440\\u043e\\u0434\",\"\\u0433 \\u0420\\u043e\\u0441\\u0441\\u043e\\u0448\\u044c\",null,\"\\u0433 \\u0423\\u0440\\u044e\\u043f\\u0438\\u043d\\u0441\\u043a\",\"\\u0433 \\u0421\\u0430\\u0440\\u0430\\u0442\\u043e\\u0432\",null,\"\\u0433 \\u0410\\u0437\\u043e\\u0432\",null,\"\\u0433. \\u041a\\u0443\\u043a\\u043c\\u043e\\u0440\",\"\\u0433 \\u0423\\u0444\\u0430\",null,null,\"\\u0433 \\u0417\\u0435\\u043b\\u0435\\u043d\\u043e\\u0434\\u043e\\u043b\\u044c\\u0441\\u043a\",\"\\u0433 \\u041a\\u0430\\u0437\\u0430\\u043d\\u044c\",\"\\u0433. \\u0416\\u0438\\u0437\\u0434\\u0440\\u0430\",\"\\u0433 \\u0423\\u0444\\u0430\",\"\\u0433 \\u0422\\u044e\\u043c\\u0435\\u043d\\u044c\",null,null,null,null,\"\\u0433 \\u041b\\u0438\\u043f\\u0435\\u0446\\u043a\",\"\\u0433 \\u041e\\u0431\\u043d\\u0438\\u043d\\u0441\\u043a\",\"\\u0433 \\u0421\\u0438\\u043c\\u0444\\u0435\\u0440\\u043e\\u043f\\u043e\\u043b\\u044c\",\"\\u0433 \\u041e\\u0431\\u043d\\u0438\\u043d\\u0441\\u043a\",\"\\u0433 \\u0413\\u0443\\u0434\\u0435\\u0440\\u043c\\u0435\\u0441\",null,\"\\u0433 \\u041a\\u0435\\u043c\\u0435\\u0440\\u043e\\u0432\\u043e\",\"\\u0433 \\u041a\\u0440\\u0430\\u0441\\u043d\\u043e\\u0434\\u0430\\u0440\",\"\\u0433 \\u0410\\u0441\\u0442\\u0440\\u0430\\u0445\\u0430\\u043d\\u044c\",\"\\u0433 \\u0422\\u0440\\u043e\\u0438\\u0446\\u043a\",null,\"\\u0433 \\u0422\\u044e\\u043c\\u0435\\u043d\\u044c\"],\"lat\":[43.11725,61.799576,null,54.76772,56.137375,59.905365,56.318256,56.318256,56.137375,55.78767,55.820213,55.761635,55.15644,59.953926,51.312783,56.633286,59.937054,56.843575,55.67241,54.711821,53.263046,55.686058,56.633286,59.884026,55.7601,59.937054,54.711821,56.137375,55.761635,62.03571,55.01924,52.602722,59.884026,55.65519,51.493088,54.944096,55.8064,45.05121,55.435013,50.26888,55.024044,64.548256,55.791946,58.010288,55.7058,55.761635,44.604829,57.758297,45.05121,56.78366,44.885674,48.72413,55.686058,55.708755,56.475487,55.7826,45.055992,59.879421,50.26888,56.137375,56.841537,55.605724,43.5502,55.66832,54.222286,50.560238,54.62677,59.937054,59.217236,55.6736,42.95503,null,44.885674,55.761635,55.01924,55.812767,55.6736,55.733273,55.981007,53.204678,59.921696,55.809975,55.7058,42.065636,56.146744,56.01609,48.72413,45.020824,null,55.65519,55.0239,55.784634,55.761635,57.808414,55.024044,56.633286,57.14979,55.893463,44.562664,57.758297,56.146744,53.263046,55.67241,54.862396,59.913265,55.659355,47.206347,57.445698,55.67241,59.96222,55.893463,null,55.098793,55.761635,52.053635,55.082603,null,54.73957,43.12332,58.500217,55.659355,55.393627,59.921696,56.442856,53.387398,55.7987,55.812767,55.659355,57.49023,43.376965,55.11742,57.309647,55.648308,56.321835,51.721313,43.747368,59.96222,48.654827,null,51.312783,59.984383,56.996216,59.875587,55.761635,55.708755,55.733273,44.948237,51.77266,53.204678,54.711821,51.661526,52.288754,56.843575,43.054523,null,52.759018,55.17518,55.733273,44.885674,55.830166,55.094475,43.5502,55.7826,54.604338,55.7987,55.90775,43.12332,59.921696,56.78366,null,55.573439,51.657482,44.500515,55.021101,54.711821,55.90775,55.48972,null,59.834816,43.320866,56.819744,44.873978,51.681255,43.054523,59.984383,55.708755,55.644405,55.8064,59.984383,null,55.860554,53.736767,55.8064,59.834816,57.14979,52.59709,58.543297,56.022453,56.996216,43.320866,54.711821,45.055992,55.893463,52.288647,50.26888,57.528744,42.95503,48.496307,59.999725,56.18363,51.312783,53.7376,57.14979,null,48.654827,55.11758,53.186066,61.00211,53.263046,55.021101,56.871994,null,55.76715,58.500217,54.726185,53.204678,54.711821,53.449301,55.784634,43.320866,55.76715,55.733273,56.04714,44.948237,59.999725,57.62693,55.605724,55.70925,43.054523,51.569134,50.614616,57.758297,55.6736,55.761635,55.833813,52.407578,55.877316,61.08601,54.63525,59.937054,59.96222,55.77599,44.500515,55.77599,55.784634,42.95503,55.708755,54.979702,55.854576,53.09111,55.72403,56.841537,55.7058,57.14979,53.098034,56.843575,55.65519,51.312783,55.761635,54.76772,59.913265,55.15606,47.232028,59.999725,null,56.04714,55.77599,56.87973,42.823627,55.7826,45.18503,52.516736,55.644405,47.135723,55.849888,59.879421,48.49095,55.6736,57.975723,48.496307,55.8064,55.644405,53.30905,54.539043,55.573439,56.04714,59.879421,53.387398,50.550877,55.849888,59.913265,54.77788,55.70925,55.6736,42.95503,52.500988,56.888893,55.79555,null,55.809975,51.781174,55.573439,57.49023,51.569134,56.829468,53.00224,54.971985,59.884026,55.79555,null,59.937054,57.62693,52.602722,59.834816,55.32348,55.83528,52.59709,43.054523,42.95503,55.43018,55.833813,55.739307,44.083267,null,59.953926,55.64164,60.934563,55.830166,59.95366,55.64164,54.539043,42.979862,53.7376,51.657482,52.288754,51.54108,57.63807,53.263046,null,48.654827,56.310937,54.979702,51.226494,59.88325,57.14979,55.72403,55.761635,54.197906,54.1837,59.95366,51.368725,63.74548,54.814243,59.946827,53.547606,52.288754,59.879421,55.65519,56.843575,56.475487,43.320866,54.711821,56.241116,54.420105,54.10929,59.834816,55.854576,55.648308,43.234562,55.686058,56.833664,43.791794,51.365746,53.337444,57.975723,54.420105,55.739307,56.04714,54.77788,48.496307,56.475487,54.948578,57.632626,55.849888,55.834743,55.6736,43.167618,58.010288,59.879421,51.226494,59.921696,54.1837,59.937054,51.657482,54.34061,64.548256,54.862396,59.953926,58.399807,58.543297,55.733273,56.26489,53.337444,59.857727,43.167618,56.137375,54.63525,54.979702,55.644405,42.823627,48.49095,55.750225,45.03719,55.7987,56.89768,55.67241,null,52.259782,61.799576,55.49919,53.263046,54.726185,55.70925,55.7058,44.948237,54.62677,55.6736,42.823627,55.812767,51.6994,58.543297,56.819744,55.72403,55.08427,57.14979,55.7987,59.884026,53.745888,null,55.7826,58.500217,43.862095,55.8064,59.96222,55.877316,44.948237,51.9573,56.04714,59.834816,59.879421,54.737554,59.984383,55.8064,55.72403,64.570175,56.996216,59.1235,56.148838,50.979603,null,50.798138,51.525729,55.784634,47.096488,55.573439,56.83563,54.726185,55.834743,59.937054,55.85096,55.833813,53.86516,54.782241,57.14979,41.619535,55.920525,56.350395,43.25043,52.602722,55.098793,44.948237,55.098793,59.913265,59.913265,55.3633,45.029015,46.36476,55.573439,55.768,57.14979],\"legendgroup\":\"\",\"lon\":[131.8852,34.341743,null,32.047268,47.25603,29.77652,38.13993,38.13993,47.25603,37.67214,38.988125,37.6586,61.386353,30.41471,37.881641,47.90019,30.270311,60.639294,37.899994,20.547588,34.345196,37.756973,47.90019,30.365017,37.553185,30.270311,20.547588,47.25603,37.6586,129.758642,82.95686,39.600132,30.365017,37.414753,45.932625,73.37687,37.64813,38.95408,37.753353,127.52683,82.93872,40.535133,38.436337,56.244885,37.66441,37.6586,33.519278,40.963436,38.95408,60.60932,37.304204,44.532333,37.756973,37.623688,84.96818,37.554268,38.98416,30.477071,127.52683,47.25603,60.578487,38.07089,39.781624,37.56381,45.139275,137.02255,39.71181,30.270311,39.885986,37.263103,47.50779,null,37.304204,37.6586,82.95686,37.593417,37.263103,37.420197,92.87679,50.14273,30.295506,37.822178,37.66441,48.282494,40.385628,92.879585,44.532333,39.005363,null,37.414753,73.403114,37.642014,37.6586,28.34161,82.93872,47.90019,65.5169,37.40911,38.07767,40.963436,40.385628,34.345196,37.899994,83.1105,30.29725,37.605785,39.636779,42.15615,37.899994,30.305073,37.40911,null,36.616695,37.6586,106.656364,38.774403,null,55.985294,131.88884,49.71987,37.605785,43.81661,30.295506,52.215885,58.976715,49.12403,37.593417,37.605785,60.20751,42.91319,33.236816,47.88379,37.66385,43.991047,94.44724,44.641926,30.305073,44.432205,null,37.881641,30.265001,40.972424,29.898277,37.6586,37.623688,37.420197,34.100318,55.182518,50.14273,20.547588,39.152096,104.29899,60.639294,44.65646,null,103.64897,61.389151,37.420197,37.304204,37.300095,82.955864,39.781624,37.554268,39.741459,49.12403,37.71863,131.88884,30.295506,60.60932,null,37.464904,39.24693,34.16745,82.92864,20.547588,37.71863,46.948612,null,30.351662,45.69178,60.63776,40.05863,39.191048,44.65646,30.265001,37.623688,37.616383,37.64813,30.265001,null,47.461723,91.44329,37.64813,30.351662,65.5169,39.60083,31.264816,92.83731,40.972424,45.69178,20.547588,38.98416,37.40911,104.29914,127.52683,38.324184,47.50779,135.06377,30.335318,36.98191,37.881641,78.028725,65.5169,null,44.432205,59.699657,45.005375,69.02614,34.345196,82.92864,37.353954,null,49.182186,49.71987,55.949226,50.14273,20.547588,56.036341,37.642014,45.69178,49.182186,37.420197,92.95175,34.100318,30.335318,39.86856,38.07089,37.80283,44.65646,45.98775,36.586514,40.963436,37.263103,37.6586,49.10336,37.57155,37.704258,72.62471,83.30979,30.270311,30.305073,37.50588,34.16745,37.50588,37.642014,47.50779,37.623688,82.87612,38.43214,49.96979,37.569813,60.578487,37.66441,65.5169,49.956127,60.639294,37.414753,37.881641,37.6586,32.047268,30.29725,61.400514,39.72794,30.335318,null,92.95175,37.50588,53.26724,132.8925,37.554268,33.35597,85.152276,37.616383,39.744728,37.49493,30.477071,135.05856,37.263103,56.203693,135.06377,37.64813,37.616383,45.04239,52.805084,37.464904,92.95175,30.477071,58.976715,37.128204,37.49493,30.29725,20.593227,37.80283,37.263103,47.50779,82.77301,60.624565,37.933254,null,37.822178,55.106773,37.464904,60.20751,45.98775,35.896866,36.13751,73.452835,30.365017,37.933254,null,30.270311,39.86856,39.600132,30.351662,38.6573,49.102573,39.60083,44.65646,47.50779,37.546913,49.10336,37.480793,41.973038,null,30.41471,51.811455,76.55,37.300095,30.35898,51.811455,52.805084,47.51716,78.028725,39.24693,104.29899,81.22516,39.859408,34.345196,null,44.432205,44.027339,82.87612,58.483307,30.990435,65.5169,37.569813,37.6586,45.23048,37.610504,30.35898,128.13425,34.30783,56.07229,30.3621,49.339176,104.29899,30.477071,37.414753,60.639294,84.96818,45.69178,20.547588,43.869076,43.791576,102.157977,30.351662,38.43214,37.66385,44.749881,37.756973,60.59965,131.9565,42.074406,83.781456,56.203693,43.791576,37.480793,92.95175,20.593227,135.06377,84.96818,31.091888,39.8737,37.49493,37.409763,37.263103,131.91133,56.244885,30.477071,58.483307,30.295506,37.610504,30.270311,39.24693,41.91703,40.535133,83.1105,30.41471,33.907887,31.264816,37.420197,34.331318,83.781456,30.254618,131.91133,47.25603,83.30979,82.87612,37.616383,132.8925,135.05856,37.776234,41.922314,49.12403,74.38489,37.899994,null,43.779297,34.341743,46.417515,34.345196,55.949226,37.80283,37.66441,34.100318,39.71181,37.263103,132.8925,37.593417,36.15696,31.264816,60.63776,37.569813,82.96405,65.5169,49.12403,30.365017,87.13379,null,37.554268,49.71987,41.58213,37.64813,30.305073,37.704258,34.100318,85.949615,92.95175,30.351662,30.477071,55.967782,30.265001,37.64813,37.569813,39.847458,40.972424,37.902187,44.190716,39.50527,null,42.01321,46.021707,37.642014,39.431361,37.464904,53.20678,55.949226,37.409763,30.270311,48.504845,49.10336,34.440205,56.036252,65.5169,48.348559,36.8603,30.512093,46.582146,39.600132,36.616695,34.100318,36.616695,30.29725,30.29725,86.07127,39.028008,48.06974,37.464904,51.993095,65.5169],\"marker\":{\"color\":\"fuchsia\"},\"mode\":\"markers\",\"name\":\"\",\"showlegend\":false,\"subplot\":\"map\",\"type\":\"scattermap\"}],                        {\"template\":{\"data\":{\"histogram2dcontour\":[{\"type\":\"histogram2dcontour\",\"colorbar\":{\"outlinewidth\":0,\"ticks\":\"\"},\"colorscale\":[[0.0,\"#0d0887\"],[0.1111111111111111,\"#46039f\"],[0.2222222222222222,\"#7201a8\"],[0.3333333333333333,\"#9c179e\"],[0.4444444444444444,\"#bd3786\"],[0.5555555555555556,\"#d8576b\"],[0.6666666666666666,\"#ed7953\"],[0.7777777777777778,\"#fb9f3a\"],[0.8888888888888888,\"#fdca26\"],[1.0,\"#f0f921\"]]}],\"choropleth\":[{\"type\":\"choropleth\",\"colorbar\":{\"outlinewidth\":0,\"ticks\":\"\"}}],\"histogram2d\":[{\"type\":\"histogram2d\",\"colorbar\":{\"outlinewidth\":0,\"ticks\":\"\"},\"colorscale\":[[0.0,\"#0d0887\"],[0.1111111111111111,\"#46039f\"],[0.2222222222222222,\"#7201a8\"],[0.3333333333333333,\"#9c179e\"],[0.4444444444444444,\"#bd3786\"],[0.5555555555555556,\"#d8576b\"],[0.6666666666666666,\"#ed7953\"],[0.7777777777777778,\"#fb9f3a\"],[0.8888888888888888,\"#fdca26\"],[1.0,\"#f0f921\"]]}],\"heatmap\":[{\"type\":\"heatmap\",\"colorbar\":{\"outlinewidth\":0,\"ticks\":\"\"},\"colorscale\":[[0.0,\"#0d0887\"],[0.1111111111111111,\"#46039f\"],[0.2222222222222222,\"#7201a8\"],[0.3333333333333333,\"#9c179e\"],[0.4444444444444444,\"#bd3786\"],[0.5555555555555556,\"#d8576b\"],[0.6666666666666666,\"#ed7953\"],[0.7777777777777778,\"#fb9f3a\"],[0.8888888888888888,\"#fdca26\"],[1.0,\"#f0f921\"]]}],\"heatmapgl\":[{\"type\":\"heatmapgl\",\"colorbar\":{\"outlinewidth\":0,\"ticks\":\"\"},\"colorscale\":[[0.0,\"#0d0887\"],[0.1111111111111111,\"#46039f\"],[0.2222222222222222,\"#7201a8\"],[0.3333333333333333,\"#9c179e\"],[0.4444444444444444,\"#bd3786\"],[0.5555555555555556,\"#d8576b\"],[0.6666666666666666,\"#ed7953\"],[0.7777777777777778,\"#fb9f3a\"],[0.8888888888888888,\"#fdca26\"],[1.0,\"#f0f921\"]]}],\"contourcarpet\":[{\"type\":\"contourcarpet\",\"colorbar\":{\"outlinewidth\":0,\"ticks\":\"\"}}],\"contour\":[{\"type\":\"contour\",\"colorbar\":{\"outlinewidth\":0,\"ticks\":\"\"},\"colorscale\":[[0.0,\"#0d0887\"],[0.1111111111111111,\"#46039f\"],[0.2222222222222222,\"#7201a8\"],[0.3333333333333333,\"#9c179e\"],[0.4444444444444444,\"#bd3786\"],[0.5555555555555556,\"#d8576b\"],[0.6666666666666666,\"#ed7953\"],[0.7777777777777778,\"#fb9f3a\"],[0.8888888888888888,\"#fdca26\"],[1.0,\"#f0f921\"]]}],\"surface\":[{\"type\":\"surface\",\"colorbar\":{\"outlinewidth\":0,\"ticks\":\"\"},\"colorscale\":[[0.0,\"#0d0887\"],[0.1111111111111111,\"#46039f\"],[0.2222222222222222,\"#7201a8\"],[0.3333333333333333,\"#9c179e\"],[0.4444444444444444,\"#bd3786\"],[0.5555555555555556,\"#d8576b\"],[0.6666666666666666,\"#ed7953\"],[0.7777777777777778,\"#fb9f3a\"],[0.8888888888888888,\"#fdca26\"],[1.0,\"#f0f921\"]]}],\"mesh3d\":[{\"type\":\"mesh3d\",\"colorbar\":{\"outlinewidth\":0,\"ticks\":\"\"}}],\"scatter\":[{\"fillpattern\":{\"fillmode\":\"overlay\",\"size\":10,\"solidity\":0.2},\"type\":\"scatter\"}],\"parcoords\":[{\"type\":\"parcoords\",\"line\":{\"colorbar\":{\"outlinewidth\":0,\"ticks\":\"\"}}}],\"scatterpolargl\":[{\"type\":\"scatterpolargl\",\"marker\":{\"colorbar\":{\"outlinewidth\":0,\"ticks\":\"\"}}}],\"bar\":[{\"error_x\":{\"color\":\"#2a3f5f\"},\"error_y\":{\"color\":\"#2a3f5f\"},\"marker\":{\"line\":{\"color\":\"#E5ECF6\",\"width\":0.5},\"pattern\":{\"fillmode\":\"overlay\",\"size\":10,\"solidity\":0.2}},\"type\":\"bar\"}],\"scattergeo\":[{\"type\":\"scattergeo\",\"marker\":{\"colorbar\":{\"outlinewidth\":0,\"ticks\":\"\"}}}],\"scatterpolar\":[{\"type\":\"scatterpolar\",\"marker\":{\"colorbar\":{\"outlinewidth\":0,\"ticks\":\"\"}}}],\"histogram\":[{\"marker\":{\"pattern\":{\"fillmode\":\"overlay\",\"size\":10,\"solidity\":0.2}},\"type\":\"histogram\"}],\"scattergl\":[{\"type\":\"scattergl\",\"marker\":{\"colorbar\":{\"outlinewidth\":0,\"ticks\":\"\"}}}],\"scatter3d\":[{\"type\":\"scatter3d\",\"line\":{\"colorbar\":{\"outlinewidth\":0,\"ticks\":\"\"}},\"marker\":{\"colorbar\":{\"outlinewidth\":0,\"ticks\":\"\"}}}],\"scattermapbox\":[{\"type\":\"scattermapbox\",\"marker\":{\"colorbar\":{\"outlinewidth\":0,\"ticks\":\"\"}}}],\"scatterternary\":[{\"type\":\"scatterternary\",\"marker\":{\"colorbar\":{\"outlinewidth\":0,\"ticks\":\"\"}}}],\"scattercarpet\":[{\"type\":\"scattercarpet\",\"marker\":{\"colorbar\":{\"outlinewidth\":0,\"ticks\":\"\"}}}],\"carpet\":[{\"aaxis\":{\"endlinecolor\":\"#2a3f5f\",\"gridcolor\":\"white\",\"linecolor\":\"white\",\"minorgridcolor\":\"white\",\"startlinecolor\":\"#2a3f5f\"},\"baxis\":{\"endlinecolor\":\"#2a3f5f\",\"gridcolor\":\"white\",\"linecolor\":\"white\",\"minorgridcolor\":\"white\",\"startlinecolor\":\"#2a3f5f\"},\"type\":\"carpet\"}],\"table\":[{\"cells\":{\"fill\":{\"color\":\"#EBF0F8\"},\"line\":{\"color\":\"white\"}},\"header\":{\"fill\":{\"color\":\"#C8D4E3\"},\"line\":{\"color\":\"white\"}},\"type\":\"table\"}],\"barpolar\":[{\"marker\":{\"line\":{\"color\":\"#E5ECF6\",\"width\":0.5},\"pattern\":{\"fillmode\":\"overlay\",\"size\":10,\"solidity\":0.2}},\"type\":\"barpolar\"}],\"pie\":[{\"automargin\":true,\"type\":\"pie\"}]},\"layout\":{\"autotypenumbers\":\"strict\",\"colorway\":[\"#636efa\",\"#EF553B\",\"#00cc96\",\"#ab63fa\",\"#FFA15A\",\"#19d3f3\",\"#FF6692\",\"#B6E880\",\"#FF97FF\",\"#FECB52\"],\"font\":{\"color\":\"#2a3f5f\"},\"hovermode\":\"closest\",\"hoverlabel\":{\"align\":\"left\"},\"paper_bgcolor\":\"white\",\"plot_bgcolor\":\"#E5ECF6\",\"polar\":{\"bgcolor\":\"#E5ECF6\",\"angularaxis\":{\"gridcolor\":\"white\",\"linecolor\":\"white\",\"ticks\":\"\"},\"radialaxis\":{\"gridcolor\":\"white\",\"linecolor\":\"white\",\"ticks\":\"\"}},\"ternary\":{\"bgcolor\":\"#E5ECF6\",\"aaxis\":{\"gridcolor\":\"white\",\"linecolor\":\"white\",\"ticks\":\"\"},\"baxis\":{\"gridcolor\":\"white\",\"linecolor\":\"white\",\"ticks\":\"\"},\"caxis\":{\"gridcolor\":\"white\",\"linecolor\":\"white\",\"ticks\":\"\"}},\"coloraxis\":{\"colorbar\":{\"outlinewidth\":0,\"ticks\":\"\"}},\"colorscale\":{\"sequential\":[[0.0,\"#0d0887\"],[0.1111111111111111,\"#46039f\"],[0.2222222222222222,\"#7201a8\"],[0.3333333333333333,\"#9c179e\"],[0.4444444444444444,\"#bd3786\"],[0.5555555555555556,\"#d8576b\"],[0.6666666666666666,\"#ed7953\"],[0.7777777777777778,\"#fb9f3a\"],[0.8888888888888888,\"#fdca26\"],[1.0,\"#f0f921\"]],\"sequentialminus\":[[0.0,\"#0d0887\"],[0.1111111111111111,\"#46039f\"],[0.2222222222222222,\"#7201a8\"],[0.3333333333333333,\"#9c179e\"],[0.4444444444444444,\"#bd3786\"],[0.5555555555555556,\"#d8576b\"],[0.6666666666666666,\"#ed7953\"],[0.7777777777777778,\"#fb9f3a\"],[0.8888888888888888,\"#fdca26\"],[1.0,\"#f0f921\"]],\"diverging\":[[0,\"#8e0152\"],[0.1,\"#c51b7d\"],[0.2,\"#de77ae\"],[0.3,\"#f1b6da\"],[0.4,\"#fde0ef\"],[0.5,\"#f7f7f7\"],[0.6,\"#e6f5d0\"],[0.7,\"#b8e186\"],[0.8,\"#7fbc41\"],[0.9,\"#4d9221\"],[1,\"#276419\"]]},\"xaxis\":{\"gridcolor\":\"white\",\"linecolor\":\"white\",\"ticks\":\"\",\"title\":{\"standoff\":15},\"zerolinecolor\":\"white\",\"automargin\":true,\"zerolinewidth\":2},\"yaxis\":{\"gridcolor\":\"white\",\"linecolor\":\"white\",\"ticks\":\"\",\"title\":{\"standoff\":15},\"zerolinecolor\":\"white\",\"automargin\":true,\"zerolinewidth\":2},\"scene\":{\"xaxis\":{\"backgroundcolor\":\"#E5ECF6\",\"gridcolor\":\"white\",\"linecolor\":\"white\",\"showbackground\":true,\"ticks\":\"\",\"zerolinecolor\":\"white\",\"gridwidth\":2},\"yaxis\":{\"backgroundcolor\":\"#E5ECF6\",\"gridcolor\":\"white\",\"linecolor\":\"white\",\"showbackground\":true,\"ticks\":\"\",\"zerolinecolor\":\"white\",\"gridwidth\":2},\"zaxis\":{\"backgroundcolor\":\"#E5ECF6\",\"gridcolor\":\"white\",\"linecolor\":\"white\",\"showbackground\":true,\"ticks\":\"\",\"zerolinecolor\":\"white\",\"gridwidth\":2}},\"shapedefaults\":{\"line\":{\"color\":\"#2a3f5f\"}},\"annotationdefaults\":{\"arrowcolor\":\"#2a3f5f\",\"arrowhead\":0,\"arrowwidth\":1},\"geo\":{\"bgcolor\":\"white\",\"landcolor\":\"#E5ECF6\",\"subunitcolor\":\"white\",\"showland\":true,\"showlakes\":true,\"lakecolor\":\"white\"},\"title\":{\"x\":0.05},\"mapbox\":{\"style\":\"light\"}}},\"map\":{\"domain\":{\"x\":[0.0,1.0],\"y\":[0.0,1.0]},\"center\":{\"lat\":54.35294585,\"lon\":49.44605687499999},\"zoom\":3,\"style\":\"open-street-map\"},\"legend\":{\"tracegroupgap\":0},\"margin\":{\"t\":60},\"height\":800,\"mapbox\":{\"center\":{\"lat\":54.35294585,\"lon\":49.44605687499999},\"zoom\":3}},                        {\"responsive\": true}                    ).then(function(){\n",
       "                            \n",
       "var gd = document.getElementById('532abdb5-503a-4625-944b-4aaa61101ddf');\n",
       "var x = new MutationObserver(function (mutations, observer) {{\n",
       "        var display = window.getComputedStyle(gd).display;\n",
       "        if (!display || display === 'none') {{\n",
       "            console.log([gd, 'removed!']);\n",
       "            Plotly.purge(gd);\n",
       "            observer.disconnect();\n",
       "        }}\n",
       "}});\n",
       "\n",
       "// Listen for the removal of the full notebook cells\n",
       "var notebookContainer = gd.closest('#notebook-container');\n",
       "if (notebookContainer) {{\n",
       "    x.observe(notebookContainer, {childList: true});\n",
       "}}\n",
       "\n",
       "// Listen for the clearing of the current output cell\n",
       "var outputEl = gd.closest('.output');\n",
       "if (outputEl) {{\n",
       "    x.observe(outputEl, {childList: true});\n",
       "}}\n",
       "\n",
       "                        })                };                });            </script>        </div>"
      ]
     },
     "metadata": {},
     "output_type": "display_data"
    }
   ],
   "source": [
    "df_map=df_pars.copy()\n",
    "df_map['Чистая прибыль сумма']=df_pars['Чистая прибыль 2024']+df_pars['Чистая прибыль 2020']\\\n",
    "     +df_pars['Чистая прибыль 2023']+df_pars['Чистая прибыль 2022']+df_pars['Чистая прибыль 2021']\n",
    "df_map=df_map.sort_values('Чистая прибыль сумма', ascending=False).iloc[0:500]\n",
    "\n",
    "fig = px.scatter_map(df_map, lat=\"Широта\", lon=\"Долгота\", hover_name='Город', hover_data='Чистая прибыль сумма', color_discrete_sequence=[\"fuchsia\"], zoom=3, height=800)\n",
    "fig.update_layout(map_style=\"open-street-map\")\n",
    "fig.show()"
   ]
  }
 ],
 "metadata": {
  "kernelspec": {
   "display_name": "Python [conda env:base] *",
   "language": "python",
   "name": "conda-base-py"
  },
  "language_info": {
   "codemirror_mode": {
    "name": "ipython",
    "version": 3
   },
   "file_extension": ".py",
   "mimetype": "text/x-python",
   "name": "python",
   "nbconvert_exporter": "python",
   "pygments_lexer": "ipython3",
   "version": "3.13.5"
  }
 },
 "nbformat": 4,
 "nbformat_minor": 5
}
